{
 "cells": [
  {
   "cell_type": "code",
   "execution_count": 1,
   "metadata": {},
   "outputs": [],
   "source": [
    "import torch\n",
    "import torch.nn as nn\n",
    "import torch.nn.functional as F\n",
    "import torch.optim as optim\n",
    "import numpy as np\n",
    "import optuna\n",
    "\n",
    "class Net(nn.Module):\n",
    "\n",
    "    def __init__(self, trial):\n",
    "        super(Net, self).__init__()\n",
    "        \n",
    "        num_layer = trial.suggest_int('num_layer', 3, 7)\n",
    "        \n",
    "        layers = []\n",
    "        num_input = 300\n",
    "        num_output_last = 4\n",
    "        \n",
    "        for i in range(num_layer):\n",
    "            power_two = 1\n",
    "            \n",
    "            while power_two < num_input:\n",
    "                power_two *= 2\n",
    "            if i == num_layer-1:\n",
    "                num_output = num_output_last\n",
    "            else:\n",
    "                num_output = power_two / 2\n",
    "            layers.append(nn.Linear(int(num_input), int(num_output)))\n",
    "            num_input = num_output\n",
    "            \n",
    "        self.layers = nn.ModuleList(layers)\n",
    "        \n",
    "    def forward(self, x):\n",
    "        for i, layer in enumerate(self.layers):\n",
    "            if i == len(self.layers) - 1:\n",
    "                x = layer(x)\n",
    "            else:\n",
    "                x = F.relu(layer(x))\n",
    "        return x"
   ]
  },
  {
   "cell_type": "code",
   "execution_count": 2,
   "metadata": {},
   "outputs": [],
   "source": [
    "def make_optimizer(trial, net):\n",
    "    lr = trial.suggest_loguniform('learning_rate', 1e-3, 1e1)\n",
    "    wd = trial.suggest_loguniform('weight_decay', 1e-10, 1e-6)\n",
    "    \n",
    "    optimizer = optim.SGD(net.parameters(), lr=lr, weight_decay = wd)\n",
    "    return optimizer"
   ]
  },
  {
   "cell_type": "code",
   "execution_count": 3,
   "metadata": {},
   "outputs": [],
   "source": [
    "def make_dataset(trial):\n",
    "    bs = trial.suggest_int('batch_size', 16, 256)\n",
    "    \n",
    "    queue_x = torch.from_numpy(np.load('results/70_result_queue_x_train.npy')).float()\n",
    "    queue_y = torch.from_numpy(np.load('results/70_result_queue_y_train.npy')).long()\n",
    "    dataset = torch.utils.data.TensorDataset(queue_x, queue_y)\n",
    "    dataloader = torch.utils.data.DataLoader(dataset, batch_size=bs)\n",
    "    queue_x_valid = torch.from_numpy(np.load('results/70_result_queue_x_valid.npy')).float()\n",
    "    queue_y_valid = torch.from_numpy(np.load('results/70_result_queue_y_valid.npy')).long()\n",
    "    \n",
    "    return dataloader, queue_x_valid, queue_y_valid"
   ]
  },
  {
   "cell_type": "code",
   "execution_count": 4,
   "metadata": {},
   "outputs": [],
   "source": [
    "def train(net, criterion, optimizer, dataloader):\n",
    "    for epoch in range(100):\n",
    "        running_loss = 0\n",
    "        \n",
    "        for data in dataloader:\n",
    "            x, y = data\n",
    "            optimizer.zero_grad()\n",
    "            pre_y = net(x)\n",
    "            loss = criterion(pre_y, y)\n",
    "            loss.backward()\n",
    "            optimizer.step()\n",
    "            running_loss += loss.item()\n",
    "            \n",
    "    return running_loss / len(dataloader)"
   ]
  },
  {
   "cell_type": "code",
   "execution_count": 5,
   "metadata": {},
   "outputs": [],
   "source": [
    "def valid(net, criterion, queue_x_valid, queue_y_valid):\n",
    "    pre_queue_y_valid = net(queue_x_valid)\n",
    "    loss_valid = criterion(pre_queue_y_valid, queue_y_valid)\n",
    "    pre_labels = torch.max(pre_queue_y_valid, 1)[1]\n",
    "    accuracy = (pre_labels == queue_y_valid).sum().item() / len(queue_y_valid)\n",
    "    \n",
    "    return accuracy"
   ]
  },
  {
   "cell_type": "code",
   "execution_count": 6,
   "metadata": {},
   "outputs": [],
   "source": [
    "def objective(trial):\n",
    "    net = Net(trial)\n",
    "    criterion = nn.CrossEntropyLoss()\n",
    "    optimizer = make_optimizer(trial, net)\n",
    "    \n",
    "    dataloader, queue_x_valid, queue_y_valid = make_dataset(trial)\n",
    "    \n",
    "    train(net, criterion, optimizer, dataloader)\n",
    "    \n",
    "    accuracy = valid(net, criterion, queue_x_valid, queue_y_valid)\n",
    "    \n",
    "    return 1 - accuracy"
   ]
  },
  {
   "cell_type": "code",
   "execution_count": 7,
   "metadata": {
    "scrolled": false
   },
   "outputs": [
    {
     "name": "stderr",
     "output_type": "stream",
     "text": [
      "[I 2020-04-26 20:51:45,194] Finished trial#0 with value: 0.24137931034482762 with parameters: {'num_layer': 5, 'learning_rate': 0.01732830658239056, 'weight_decay': 8.401974096500266e-08, 'batch_size': 219}. Best is trial#0 with value: 0.24137931034482762.\n",
      "[I 2020-04-26 20:52:22,991] Finished trial#1 with value: 0.5839580209895052 with parameters: {'num_layer': 6, 'learning_rate': 0.8325541833231815, 'weight_decay': 1.4695232484499537e-07, 'batch_size': 50}. Best is trial#0 with value: 0.24137931034482762.\n",
      "[I 2020-04-26 20:52:47,594] Finished trial#2 with value: 0.16116941529235385 with parameters: {'num_layer': 5, 'learning_rate': 0.02158948078724805, 'weight_decay': 5.374336742811176e-08, 'batch_size': 105}. Best is trial#2 with value: 0.16116941529235385.\n",
      "[I 2020-04-26 20:53:12,776] Finished trial#3 with value: 0.22488755622188905 with parameters: {'num_layer': 5, 'learning_rate': 0.009270453878670148, 'weight_decay': 3.1790230101594304e-10, 'batch_size': 100}. Best is trial#2 with value: 0.16116941529235385.\n",
      "[I 2020-04-26 20:53:32,288] Finished trial#4 with value: 0.13118440779610197 with parameters: {'num_layer': 6, 'learning_rate': 0.11817325928736805, 'weight_decay': 8.032658300597789e-07, 'batch_size': 230}. Best is trial#4 with value: 0.13118440779610197.\n",
      "[I 2020-04-26 20:53:56,214] Finished trial#5 with value: 0.5839580209895052 with parameters: {'num_layer': 5, 'learning_rate': 0.0012293119443059508, 'weight_decay': 4.075950291801204e-08, 'batch_size': 100}. Best is trial#4 with value: 0.13118440779610197.\n",
      "[I 2020-04-26 20:54:48,932] Finished trial#6 with value: 0.13043478260869568 with parameters: {'num_layer': 5, 'learning_rate': 0.4350787081598914, 'weight_decay': 6.540532044943687e-10, 'batch_size': 29}. Best is trial#6 with value: 0.13043478260869568.\n",
      "[I 2020-04-26 20:55:20,790] Finished trial#7 with value: 0.5839580209895052 with parameters: {'num_layer': 6, 'learning_rate': 0.004972497209345028, 'weight_decay': 1.3297879720377022e-10, 'batch_size': 66}. Best is trial#6 with value: 0.13043478260869568.\n",
      "[I 2020-04-26 20:55:40,837] Finished trial#8 with value: 0.20839580209895048 with parameters: {'num_layer': 6, 'learning_rate': 0.05894069319663891, 'weight_decay': 9.168194524729819e-08, 'batch_size': 208}. Best is trial#6 with value: 0.13043478260869568.\n",
      "[I 2020-04-26 20:56:36,950] Finished trial#9 with value: 0.1296851574212894 with parameters: {'num_layer': 3, 'learning_rate': 0.14201612457971394, 'weight_decay': 5.772661184717448e-10, 'batch_size': 20}. Best is trial#9 with value: 0.1296851574212894.\n",
      "[I 2020-04-26 20:56:54,963] Finished trial#10 with value: 0.6101949025487257 with parameters: {'num_layer': 3, 'learning_rate': 7.336120375340204, 'weight_decay': 2.171101304006423e-09, 'batch_size': 165}. Best is trial#9 with value: 0.1296851574212894.\n",
      "[I 2020-04-26 20:57:53,724] Finished trial#11 with value: 0.12593703148425783 with parameters: {'num_layer': 3, 'learning_rate': 0.6133196523037198, 'weight_decay': 1.6006321002844709e-09, 'batch_size': 19}. Best is trial#11 with value: 0.12593703148425783.\n",
      "[I 2020-04-26 20:58:52,712] Finished trial#12 with value: 0.5839580209895052 with parameters: {'num_layer': 3, 'learning_rate': 2.2238990046211526, 'weight_decay': 3.4354760371102176e-09, 'batch_size': 19}. Best is trial#11 with value: 0.12593703148425783.\n",
      "[I 2020-04-26 20:59:59,290] Finished trial#13 with value: 0.1281859070464768 with parameters: {'num_layer': 3, 'learning_rate': 0.23487632757090462, 'weight_decay': 1.4501779538331306e-09, 'batch_size': 16}. Best is trial#11 with value: 0.12593703148425783.\n",
      "[I 2020-04-26 21:00:28,648] Finished trial#14 with value: 0.5839580209895052 with parameters: {'num_layer': 4, 'learning_rate': 0.6750938233211644, 'weight_decay': 7.682392129557054e-09, 'batch_size': 64}. Best is trial#11 with value: 0.12593703148425783.\n",
      "[I 2020-04-26 21:00:47,730] Finished trial#15 with value: 0.5839580209895052 with parameters: {'num_layer': 4, 'learning_rate': 4.004612474772707, 'weight_decay': 1.7165415314549536e-09, 'batch_size': 166}. Best is trial#11 with value: 0.12593703148425783.\n",
      "[I 2020-04-26 21:01:25,473] Finished trial#16 with value: 0.11694152923538226 with parameters: {'num_layer': 4, 'learning_rate': 0.42201658501567807, 'weight_decay': 1.1561179942699311e-08, 'batch_size': 42}. Best is trial#16 with value: 0.11694152923538226.\n",
      "[I 2020-04-26 21:02:00,659] Finished trial#17 with value: 0.5839580209895052 with parameters: {'num_layer': 4, 'learning_rate': 1.6841378014101671, 'weight_decay': 1.4663658595648795e-08, 'batch_size': 47}. Best is trial#16 with value: 0.11694152923538226.\n",
      "[I 2020-04-26 21:02:22,444] Finished trial#18 with value: 0.13193403298350825 with parameters: {'num_layer': 4, 'learning_rate': 0.051576860293650224, 'weight_decay': 1.4087279805557875e-08, 'batch_size': 129}. Best is trial#16 with value: 0.11694152923538226.\n",
      "[I 2020-04-26 21:02:55,201] Finished trial#19 with value: 0.5839580209895052 with parameters: {'num_layer': 7, 'learning_rate': 0.3329118296872921, 'weight_decay': 4.337292520836457e-07, 'batch_size': 72}. Best is trial#16 with value: 0.11694152923538226.\n",
      "[I 2020-04-26 21:03:33,568] Finished trial#20 with value: 0.5839580209895052 with parameters: {'num_layer': 4, 'learning_rate': 9.426399868396997, 'weight_decay': 4.7668664940877615e-09, 'batch_size': 41}. Best is trial#16 with value: 0.11694152923538226.\n",
      "[I 2020-04-26 21:04:39,717] Finished trial#21 with value: 0.1281859070464768 with parameters: {'num_layer': 3, 'learning_rate': 0.2575106622131313, 'weight_decay': 8.964347147583945e-10, 'batch_size': 16}. Best is trial#16 with value: 0.11694152923538226.\n",
      "[I 2020-04-26 21:05:03,562] Finished trial#22 with value: 0.14167916041979012 with parameters: {'num_layer': 3, 'learning_rate': 1.1951479641878324, 'weight_decay': 1.0060717194917789e-10, 'batch_size': 82}. Best is trial#16 with value: 0.11694152923538226.\n",
      "[I 2020-04-26 21:05:37,737] Finished trial#23 with value: 0.13268365817091454 with parameters: {'num_layer': 3, 'learning_rate': 0.24372971739903862, 'weight_decay': 2.259440468799915e-08, 'batch_size': 41}. Best is trial#16 with value: 0.11694152923538226.\n",
      "[I 2020-04-26 21:06:30,931] Finished trial#24 with value: 0.5839580209895052 with parameters: {'num_layer': 4, 'learning_rate': 3.0107740666464426, 'weight_decay': 9.263591162450407e-10, 'batch_size': 26}. Best is trial#16 with value: 0.11694152923538226.\n",
      "[I 2020-04-26 21:06:47,974] Finished trial#25 with value: 0.12443778110944526 with parameters: {'num_layer': 3, 'learning_rate': 0.6647631073080813, 'weight_decay': 2.4338131209655165e-10, 'batch_size': 255}. Best is trial#16 with value: 0.11694152923538226.\n",
      "[I 2020-04-26 21:07:07,669] Finished trial#26 with value: 0.12593703148425783 with parameters: {'num_layer': 4, 'learning_rate': 0.6604646897376889, 'weight_decay': 1.5451121187689344e-10, 'batch_size': 184}. Best is trial#16 with value: 0.11694152923538226.\n",
      "[I 2020-04-26 21:07:25,206] Finished trial#27 with value: 0.5839580209895052 with parameters: {'num_layer': 4, 'learning_rate': 1.146075788012879, 'weight_decay': 2.129051722842123e-10, 'batch_size': 256}. Best is trial#16 with value: 0.11694152923538226.\n",
      "[I 2020-04-26 21:07:42,368] Finished trial#28 with value: 0.13868065967016496 with parameters: {'num_layer': 3, 'learning_rate': 0.06155683855378854, 'weight_decay': 3.6534143518695097e-10, 'batch_size': 255}. Best is trial#16 with value: 0.11694152923538226.\n",
      "[I 2020-04-26 21:08:01,494] Finished trial#29 with value: 0.5839580209895052 with parameters: {'num_layer': 4, 'learning_rate': 5.62959318065784, 'weight_decay': 1.5293858125529153e-10, 'batch_size': 195}. Best is trial#16 with value: 0.11694152923538226.\n",
      "[I 2020-04-26 21:08:20,201] Finished trial#30 with value: 0.12443778110944526 with parameters: {'num_layer': 4, 'learning_rate': 0.5004208526351128, 'weight_decay': 5.4062612436603425e-09, 'batch_size': 238}. Best is trial#16 with value: 0.11694152923538226.\n",
      "[I 2020-04-26 21:08:38,854] Finished trial#31 with value: 0.11919040479760123 with parameters: {'num_layer': 4, 'learning_rate': 0.4892144926568329, 'weight_decay': 6.843003455829211e-09, 'batch_size': 237}. Best is trial#16 with value: 0.11694152923538226.\n",
      "[I 2020-04-26 21:08:57,712] Finished trial#32 with value: 0.13193403298350825 with parameters: {'num_layer': 4, 'learning_rate': 0.14345163990659784, 'weight_decay': 6.61218784421064e-09, 'batch_size': 233}. Best is trial#16 with value: 0.11694152923538226.\n",
      "[I 2020-04-26 21:09:16,551] Finished trial#33 with value: 0.5839580209895052 with parameters: {'num_layer': 5, 'learning_rate': 1.159124956212293, 'weight_decay': 2.4732477579693867e-08, 'batch_size': 238}. Best is trial#16 with value: 0.11694152923538226.\n",
      "[I 2020-04-26 21:09:36,083] Finished trial#34 with value: 0.13343328335832083 with parameters: {'num_layer': 5, 'learning_rate': 0.45232887947321354, 'weight_decay': 3.1330115809585705e-09, 'batch_size': 214}. Best is trial#16 with value: 0.11694152923538226.\n",
      "[I 2020-04-26 21:09:53,890] Finished trial#35 with value: 0.5839580209895052 with parameters: {'num_layer': 4, 'learning_rate': 1.6020635098665295, 'weight_decay': 1.8442463831518932e-07, 'batch_size': 251}. Best is trial#16 with value: 0.11694152923538226.\n",
      "[I 2020-04-26 21:10:13,328] Finished trial#36 with value: 0.1506746626686657 with parameters: {'num_layer': 5, 'learning_rate': 0.09520389999043963, 'weight_decay': 1.065950774267666e-08, 'batch_size': 241}. Best is trial#16 with value: 0.11694152923538226.\n",
      "[I 2020-04-26 21:10:33,075] Finished trial#37 with value: 0.1274362818590704 with parameters: {'num_layer': 5, 'learning_rate': 0.4307472467257753, 'weight_decay': 3.465075024172164e-08, 'batch_size': 223}. Best is trial#16 with value: 0.11694152923538226.\n",
      "[I 2020-04-26 21:10:54,827] Finished trial#38 with value: 0.14542728635682156 with parameters: {'num_layer': 4, 'learning_rate': 0.027980614197140756, 'weight_decay': 5.714815257709801e-09, 'batch_size': 129}. Best is trial#16 with value: 0.11694152923538226.\n",
      "[I 2020-04-26 21:11:15,111] Finished trial#39 with value: 0.1296851574212894 with parameters: {'num_layer': 5, 'learning_rate': 0.2145695710825515, 'weight_decay': 6.042724098883895e-08, 'batch_size': 200}. Best is trial#16 with value: 0.11694152923538226.\n",
      "[I 2020-04-26 21:11:35,726] Finished trial#40 with value: 0.18965517241379315 with parameters: {'num_layer': 4, 'learning_rate': 0.860136036564184, 'weight_decay': 1.568068572518829e-07, 'batch_size': 151}. Best is trial#16 with value: 0.11694152923538226.\n",
      "[I 2020-04-26 21:11:55,108] Finished trial#41 with value: 0.5839580209895052 with parameters: {'num_layer': 4, 'learning_rate': 0.6145813103967844, 'weight_decay': 2.7980562127066354e-10, 'batch_size': 185}. Best is trial#16 with value: 0.11694152923538226.\n",
      "[I 2020-04-26 21:12:15,029] Finished trial#42 with value: 0.13343328335832083 with parameters: {'num_layer': 4, 'learning_rate': 0.8474707554100596, 'weight_decay': 1.86452333765373e-08, 'batch_size': 185}. Best is trial#16 with value: 0.11694152923538226.\n",
      "[I 2020-04-26 21:12:35,276] Finished trial#43 with value: 0.13343328335832083 with parameters: {'num_layer': 6, 'learning_rate': 0.3998654586040734, 'weight_decay': 4.773712131230997e-10, 'batch_size': 222}. Best is trial#16 with value: 0.11694152923538226.\n",
      "[I 2020-04-26 21:12:52,305] Finished trial#44 with value: 0.12518740629685154 with parameters: {'num_layer': 3, 'learning_rate': 0.16690310209491005, 'weight_decay': 3.297785631553968e-09, 'batch_size': 246}. Best is trial#16 with value: 0.11694152923538226.\n",
      "[I 2020-04-26 21:13:09,315] Finished trial#45 with value: 0.13718140929535227 with parameters: {'num_layer': 3, 'learning_rate': 0.09108766682968336, 'weight_decay': 3.5465179819781863e-09, 'batch_size': 247}. Best is trial#16 with value: 0.11694152923538226.\n",
      "[I 2020-04-26 21:13:26,833] Finished trial#46 with value: 0.1349325337331334 with parameters: {'num_layer': 3, 'learning_rate': 0.13797986414935598, 'weight_decay': 7.818285017838932e-09, 'batch_size': 231}. Best is trial#16 with value: 0.11694152923538226.\n",
      "[I 2020-04-26 21:13:44,415] Finished trial#47 with value: 0.1296851574212894 with parameters: {'num_layer': 3, 'learning_rate': 0.17161783449032045, 'weight_decay': 2.496167734506667e-09, 'batch_size': 209}. Best is trial#16 with value: 0.11694152923538226.\n",
      "[I 2020-04-26 21:14:01,268] Finished trial#48 with value: 0.1289355322338831 with parameters: {'num_layer': 3, 'learning_rate': 0.31336847205610413, 'weight_decay': 4.250527845501644e-09, 'batch_size': 244}. Best is trial#16 with value: 0.11694152923538226.\n",
      "[I 2020-04-26 21:14:18,382] Finished trial#49 with value: 0.13868065967016496 with parameters: {'num_layer': 3, 'learning_rate': 1.8348724487492654, 'weight_decay': 8.571706836127455e-09, 'batch_size': 225}. Best is trial#16 with value: 0.11694152923538226.\n",
      "[I 2020-04-26 21:14:34,745] Finished trial#50 with value: 0.26236881559220393 with parameters: {'num_layer': 3, 'learning_rate': 0.0035281132486465073, 'weight_decay': 1.1799463391783414e-08, 'batch_size': 256}. Best is trial#16 with value: 0.11694152923538226.\n",
      "[I 2020-04-26 21:14:56,351] Finished trial#51 with value: 0.13343328335832083 with parameters: {'num_layer': 4, 'learning_rate': 0.5733040885813956, 'weight_decay': 1.041322746381972e-09, 'batch_size': 117}. Best is trial#16 with value: 0.11694152923538226.\n",
      "[I 2020-04-26 21:15:16,918] Finished trial#52 with value: 0.1274362818590704 with parameters: {'num_layer': 4, 'learning_rate': 0.7651942707276523, 'weight_decay': 1.6661001307358974e-08, 'batch_size': 150}. Best is trial#16 with value: 0.11694152923538226.\n",
      "[I 2020-04-26 21:15:37,041] Finished trial#53 with value: 0.14392803598200898 with parameters: {'num_layer': 4, 'learning_rate': 0.49457704849472967, 'weight_decay': 1.1470511661600759e-10, 'batch_size': 166}. Best is trial#16 with value: 0.11694152923538226.\n",
      "[I 2020-04-26 21:15:56,838] Finished trial#54 with value: 0.5839580209895052 with parameters: {'num_layer': 5, 'learning_rate': 2.488108759106146, 'weight_decay': 2.7612488077992823e-09, 'batch_size': 201}. Best is trial#16 with value: 0.11694152923538226.\n",
      "[I 2020-04-26 21:16:14,848] Finished trial#55 with value: 0.12068965517241381 with parameters: {'num_layer': 4, 'learning_rate': 0.302929062980807, 'weight_decay': 1.8022355285285752e-10, 'batch_size': 236}. Best is trial#16 with value: 0.11694152923538226.\n",
      "[I 2020-04-26 21:16:31,841] Finished trial#56 with value: 0.12218890554722639 with parameters: {'num_layer': 3, 'learning_rate': 0.18340099841241972, 'weight_decay': 2.8164924029658144e-08, 'batch_size': 237}. Best is trial#16 with value: 0.11694152923538226.\n",
      "[I 2020-04-26 21:16:49,791] Finished trial#57 with value: 0.12068965517241381 with parameters: {'num_layer': 4, 'learning_rate': 0.31361618424702953, 'weight_decay': 3.436689997271628e-08, 'batch_size': 235}. Best is trial#16 with value: 0.11694152923538226.\n",
      "[I 2020-04-26 21:17:07,109] Finished trial#58 with value: 0.12668665667166412 with parameters: {'num_layer': 3, 'learning_rate': 0.3135296390393958, 'weight_decay': 8.885763713516366e-08, 'batch_size': 215}. Best is trial#16 with value: 0.11694152923538226.\n",
      "[I 2020-04-26 21:17:31,075] Finished trial#59 with value: 0.13643178410794599 with parameters: {'num_layer': 4, 'learning_rate': 0.08008973147627897, 'weight_decay': 4.3889920844009945e-08, 'batch_size': 94}. Best is trial#16 with value: 0.11694152923538226.\n",
      "[I 2020-04-26 21:17:50,498] Finished trial#60 with value: 0.1289355322338831 with parameters: {'num_layer': 5, 'learning_rate': 0.2141552672742487, 'weight_decay': 6.409480596677765e-08, 'batch_size': 228}. Best is trial#16 with value: 0.11694152923538226.\n",
      "[I 2020-04-26 21:18:08,766] Finished trial#61 with value: 0.13343328335832083 with parameters: {'num_layer': 4, 'learning_rate': 0.3333666344988003, 'weight_decay': 3.0485624541159e-08, 'batch_size': 237}. Best is trial#16 with value: 0.11694152923538226.\n"
     ]
    },
    {
     "name": "stderr",
     "output_type": "stream",
     "text": [
      "[I 2020-04-26 21:18:26,077] Finished trial#62 with value: 0.13043478260869568 with parameters: {'num_layer': 4, 'learning_rate': 1.0593846747448965, 'weight_decay': 2.641981084980579e-08, 'batch_size': 256}. Best is trial#16 with value: 0.11694152923538226.\n",
      "[I 2020-04-26 21:18:44,750] Finished trial#63 with value: 0.15217391304347827 with parameters: {'num_layer': 4, 'learning_rate': 0.03669233694075693, 'weight_decay': 1.14041429600516e-07, 'batch_size': 233}. Best is trial#16 with value: 0.11694152923538226.\n",
      "[I 2020-04-26 21:19:03,376] Finished trial#64 with value: 0.13268365817091454 with parameters: {'num_layer': 4, 'learning_rate': 0.2712959124139724, 'weight_decay': 2.8362285365403683e-07, 'batch_size': 216}. Best is trial#16 with value: 0.11694152923538226.\n",
      "[I 2020-04-26 21:19:22,917] Finished trial#65 with value: 0.14767616191904043 with parameters: {'num_layer': 7, 'learning_rate': 0.1198941303703335, 'weight_decay': 4.145698356965399e-08, 'batch_size': 248}. Best is trial#16 with value: 0.11694152923538226.\n",
      "[I 2020-04-26 21:19:42,184] Finished trial#66 with value: 0.12518740629685154 with parameters: {'num_layer': 6, 'learning_rate': 0.18633242838361236, 'weight_decay': 1.2197847308000895e-08, 'batch_size': 239}. Best is trial#16 with value: 0.11694152923538226.\n",
      "[I 2020-04-26 21:20:00,929] Finished trial#67 with value: 0.1274362818590704 with parameters: {'num_layer': 4, 'learning_rate': 0.3479079327973346, 'weight_decay': 2.2104154356020046e-10, 'batch_size': 206}. Best is trial#16 with value: 0.11694152923538226.\n",
      "[I 2020-04-26 21:20:18,102] Finished trial#68 with value: 0.5839580209895052 with parameters: {'num_layer': 3, 'learning_rate': 1.4329463236133793, 'weight_decay': 1.9270814718817482e-08, 'batch_size': 228}. Best is trial#16 with value: 0.11694152923538226.\n",
      "[I 2020-04-26 21:20:35,390] Finished trial#69 with value: 0.13193403298350825 with parameters: {'num_layer': 4, 'learning_rate': 0.5129733260815399, 'weight_decay': 5.988070211330515e-09, 'batch_size': 256}. Best is trial#16 with value: 0.11694152923538226.\n",
      "[I 2020-04-26 21:20:52,605] Finished trial#70 with value: 0.12593703148425783 with parameters: {'num_layer': 3, 'learning_rate': 0.727999532186706, 'weight_decay': 9.124616636815208e-07, 'batch_size': 219}. Best is trial#16 with value: 0.11694152923538226.\n",
      "[I 2020-04-26 21:21:09,400] Finished trial#71 with value: 0.13268365817091454 with parameters: {'num_layer': 3, 'learning_rate': 0.16294021512476553, 'weight_decay': 4.572499407564506e-09, 'batch_size': 247}. Best is trial#16 with value: 0.11694152923538226.\n",
      "[I 2020-04-26 21:21:28,869] Finished trial#72 with value: 0.1356821589205397 with parameters: {'num_layer': 6, 'learning_rate': 0.19383887224735102, 'weight_decay': 1.1922144500865877e-08, 'batch_size': 237}. Best is trial#16 with value: 0.11694152923538226.\n",
      "[I 2020-04-26 21:21:48,157] Finished trial#73 with value: 0.16941529235382313 with parameters: {'num_layer': 6, 'learning_rate': 0.0759694543848106, 'weight_decay': 1.4064783886572921e-08, 'batch_size': 241}. Best is trial#16 with value: 0.11694152923538226.\n",
      "[I 2020-04-26 21:22:08,440] Finished trial#74 with value: 0.13193403298350825 with parameters: {'num_layer': 7, 'learning_rate': 0.4505146201805626, 'weight_decay': 9.0579944079006e-09, 'batch_size': 237}. Best is trial#16 with value: 0.11694152923538226.\n",
      "[I 2020-04-26 21:22:25,177] Finished trial#75 with value: 0.13118440779610197 with parameters: {'num_layer': 3, 'learning_rate': 0.11967590706272782, 'weight_decay': 1.859327976986084e-09, 'batch_size': 251}. Best is trial#16 with value: 0.11694152923538226.\n",
      "[I 2020-04-26 21:22:42,029] Finished trial#76 with value: 0.1281859070464768 with parameters: {'num_layer': 3, 'learning_rate': 0.23895816603626827, 'weight_decay': 1.3308549477646047e-09, 'batch_size': 245}. Best is trial#16 with value: 0.11694152923538226.\n",
      "[I 2020-04-26 21:23:01,543] Finished trial#77 with value: 0.5839580209895052 with parameters: {'num_layer': 6, 'learning_rate': 1.0172260809846256, 'weight_decay': 2.2095327567513956e-08, 'batch_size': 222}. Best is trial#16 with value: 0.11694152923538226.\n",
      "[I 2020-04-26 21:23:21,138] Finished trial#78 with value: 0.13268365817091454 with parameters: {'num_layer': 5, 'learning_rate': 0.27791798175755195, 'weight_decay': 6.871873110815145e-08, 'batch_size': 209}. Best is trial#16 with value: 0.11694152923538226.\n",
      "[I 2020-04-26 21:23:39,789] Finished trial#79 with value: 0.14092953523238383 with parameters: {'num_layer': 4, 'learning_rate': 0.05423174372805187, 'weight_decay': 7.151149903633156e-10, 'batch_size': 252}. Best is trial#16 with value: 0.11694152923538226.\n",
      "[I 2020-04-26 21:23:58,235] Finished trial#80 with value: 0.12518740629685154 with parameters: {'num_layer': 4, 'learning_rate': 0.39620158961932367, 'weight_decay': 4.1042290260377433e-10, 'batch_size': 233}. Best is trial#16 with value: 0.11694152923538226.\n",
      "[I 2020-04-26 21:24:15,137] Finished trial#81 with value: 0.1281859070464768 with parameters: {'num_layer': 3, 'learning_rate': 0.20366051972333415, 'weight_decay': 7.098674595144737e-09, 'batch_size': 242}. Best is trial#16 with value: 0.11694152923538226.\n",
      "[I 2020-04-26 21:24:33,518] Finished trial#82 with value: 0.13268365817091454 with parameters: {'num_layer': 4, 'learning_rate': 0.3750043858719858, 'weight_decay': 3.68453789405109e-10, 'batch_size': 229}. Best is trial#16 with value: 0.11694152923538226.\n",
      "[I 2020-04-26 21:24:52,204] Finished trial#83 with value: 0.12368815592203897 with parameters: {'num_layer': 4, 'learning_rate': 0.6377243509117978, 'weight_decay': 2.079653938806368e-10, 'batch_size': 234}. Best is trial#16 with value: 0.11694152923538226.\n",
      "[I 2020-04-26 21:25:10,612] Finished trial#84 with value: 0.13043478260869568 with parameters: {'num_layer': 4, 'learning_rate': 0.567476397244779, 'weight_decay': 1.9168446506765489e-10, 'batch_size': 232}. Best is trial#16 with value: 0.11694152923538226.\n",
      "[I 2020-04-26 21:25:28,983] Finished trial#85 with value: 0.12668665667166412 with parameters: {'num_layer': 4, 'learning_rate': 0.8283572833368957, 'weight_decay': 2.9884294294301684e-10, 'batch_size': 224}. Best is trial#16 with value: 0.11694152923538226.\n",
      "[I 2020-04-26 21:25:58,713] Finished trial#86 with value: 0.5839580209895052 with parameters: {'num_layer': 4, 'learning_rate': 0.64551879303041, 'weight_decay': 1.5255879285170966e-10, 'batch_size': 62}. Best is trial#16 with value: 0.11694152923538226.\n",
      "[I 2020-04-26 21:26:16,165] Finished trial#87 with value: 0.12293853073463268 with parameters: {'num_layer': 3, 'learning_rate': 0.4932301457436674, 'weight_decay': 1.0490902312265414e-10, 'batch_size': 212}. Best is trial#16 with value: 0.11694152923538226.\n",
      "[I 2020-04-26 21:26:34,953] Finished trial#88 with value: 0.5839580209895052 with parameters: {'num_layer': 4, 'learning_rate': 0.9267407042910988, 'weight_decay': 2.254144115738646e-10, 'batch_size': 191}. Best is trial#16 with value: 0.11694152923538226.\n",
      "[I 2020-04-26 21:26:52,508] Finished trial#89 with value: 0.13343328335832083 with parameters: {'num_layer': 3, 'learning_rate': 1.3766648161507977, 'weight_decay': 1.1769296610422106e-10, 'batch_size': 219}. Best is trial#16 with value: 0.11694152923538226.\n",
      "[I 2020-04-26 21:27:10,897] Finished trial#90 with value: 0.1296851574212894 with parameters: {'num_layer': 4, 'learning_rate': 0.5089768368959755, 'weight_decay': 1.0145757464646941e-10, 'batch_size': 211}. Best is trial#16 with value: 0.11694152923538226.\n",
      "[I 2020-04-26 21:27:27,748] Finished trial#91 with value: 0.13268365817091454 with parameters: {'num_layer': 3, 'learning_rate': 0.1487059520519485, 'weight_decay': 5.604688220078558e-10, 'batch_size': 245}. Best is trial#16 with value: 0.11694152923538226.\n",
      "[I 2020-04-26 21:27:44,545] Finished trial#92 with value: 0.12293853073463268 with parameters: {'num_layer': 3, 'learning_rate': 0.26459151750633536, 'weight_decay': 1.7544096261265932e-10, 'batch_size': 252}. Best is trial#16 with value: 0.11694152923538226.\n",
      "[I 2020-04-26 21:28:01,200] Finished trial#93 with value: 0.1274362818590704 with parameters: {'num_layer': 3, 'learning_rate': 0.27604366003205266, 'weight_decay': 1.7438961090456504e-10, 'batch_size': 254}. Best is trial#16 with value: 0.11694152923538226.\n",
      "[I 2020-04-26 21:28:18,256] Finished trial#94 with value: 0.13043478260869568 with parameters: {'num_layer': 3, 'learning_rate': 0.7229228954953952, 'weight_decay': 1.2769848138643943e-10, 'batch_size': 236}. Best is trial#16 with value: 0.11694152923538226.\n",
      "[I 2020-04-26 21:28:35,683] Finished trial#95 with value: 0.12593703148425783 with parameters: {'num_layer': 3, 'learning_rate': 0.40840897720365615, 'weight_decay': 2.5483625656430435e-10, 'batch_size': 226}. Best is trial#16 with value: 0.11694152923538226.\n",
      "[I 2020-04-26 21:28:53,770] Finished trial#96 with value: 0.1274362818590704 with parameters: {'num_layer': 4, 'learning_rate': 0.32718121596706645, 'weight_decay': 2.9946483207813135e-08, 'batch_size': 242}. Best is trial#16 with value: 0.11694152923538226.\n",
      "[I 2020-04-26 21:29:11,580] Finished trial#97 with value: 0.1289355322338831 with parameters: {'num_layer': 4, 'learning_rate': 0.575691175022597, 'weight_decay': 1.015433623400873e-10, 'batch_size': 249}. Best is trial#16 with value: 0.11694152923538226.\n",
      "[I 2020-04-26 21:29:30,972] Finished trial#98 with value: 0.5839580209895052 with parameters: {'num_layer': 5, 'learning_rate': 2.0085442078604463, 'weight_decay': 4.792749330763953e-08, 'batch_size': 202}. Best is trial#16 with value: 0.11694152923538226.\n",
      "[I 2020-04-26 21:29:48,065] Finished trial#99 with value: 0.1289355322338831 with parameters: {'num_layer': 3, 'learning_rate': 0.24850327547074036, 'weight_decay': 1.473094227715071e-10, 'batch_size': 232}. Best is trial#16 with value: 0.11694152923538226.\n"
     ]
    }
   ],
   "source": [
    "study = optuna.create_study()\n",
    "study.optimize(objective, n_trials=100)"
   ]
  },
  {
   "cell_type": "code",
   "execution_count": 8,
   "metadata": {
    "scrolled": false
   },
   "outputs": [
    {
     "name": "stdout",
     "output_type": "stream",
     "text": [
      "best value: 0.11694152923538226\n",
      "best params: {'num_layer': 4, 'learning_rate': 0.42201658501567807, 'weight_decay': 1.1561179942699311e-08, 'batch_size': 42}\n"
     ]
    }
   ],
   "source": [
    "print('best value: {0}'.format(study.best_value))\n",
    "print('best params: {0}'.format(study.best_params))"
   ]
  },
  {
   "cell_type": "code",
   "execution_count": null,
   "metadata": {},
   "outputs": [],
   "source": []
  }
 ],
 "metadata": {
  "kernelspec": {
   "display_name": "Python 3",
   "language": "python",
   "name": "python3"
  },
  "language_info": {
   "codemirror_mode": {
    "name": "ipython",
    "version": 3
   },
   "file_extension": ".py",
   "mimetype": "text/x-python",
   "name": "python",
   "nbconvert_exporter": "python",
   "pygments_lexer": "ipython3",
   "version": "3.7.6"
  }
 },
 "nbformat": 4,
 "nbformat_minor": 4
}
