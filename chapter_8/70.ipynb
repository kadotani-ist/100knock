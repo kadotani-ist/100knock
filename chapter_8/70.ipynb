{
 "cells": [
  {
   "cell_type": "code",
   "execution_count": 1,
   "metadata": {},
   "outputs": [
    {
     "name": "stderr",
     "output_type": "stream",
     "text": [
      "unable to import 'smart_open.gcs', disabling that module\n"
     ]
    }
   ],
   "source": [
    "import gensim\n",
    "\n",
    "model = gensim.models.KeyedVectors.load_word2vec_format('../chapter_7/GoogleNews-vectors-negative300.bin', binary=True)"
   ]
  },
  {
   "cell_type": "code",
   "execution_count": 66,
   "metadata": {},
   "outputs": [],
   "source": [
    "def make_x_and_y_file(fname):\n",
    "    with open(fname) as file:\n",
    "        lines = file.readlines()\n",
    "        queue_x = np.zeros([len(lines), 300])\n",
    "        queue_y = np.zeros(len(lines))\n",
    "        \n",
    "        for i, line in enumerate(lines):\n",
    "            import re\n",
    "            from nltk.corpus import stopwords\n",
    "            import snowballstemmer\n",
    "            \n",
    "            line = line.rstrip('\\n')\n",
    "            category = line.strip('\\t')[0]\n",
    "            title = line.split('\\t')[1]\n",
    "            x_i = np.zeros(300)\n",
    "            t_i = 0\n",
    "            \n",
    "            # queue_xの処理\n",
    "            # 文字種の統一\n",
    "            title = title.lower()\n",
    "            \n",
    "            # 数字の置き換え -> 除去\n",
    "            title = re.sub(r'[0-9]+', '', title)\n",
    "            \n",
    "            # '-'を' 'に変換\n",
    "            title = title.replace('-', ' ')\n",
    "            \n",
    "            words = title.split()\n",
    "            \n",
    "            # ストップワードの除去\n",
    "            stop_words = stopwords.words('english')\n",
    "            words2 = [word for word in words if word not in stop_words]\n",
    "            words = words2\n",
    "            \n",
    "            # ステミング処理\n",
    "            stemmer = snowballstemmer.stemmer('english')\n",
    "            words2 = [stemmer.stemWord(word) for word in words]\n",
    "            words = words2\n",
    "            \n",
    "            # 記号の除去\n",
    "            words2 = [word for word in words if word.islower()]\n",
    "            words = words2\n",
    "            \n",
    "            for word in words:\n",
    "                try:\n",
    "                    x_i += model[word]\n",
    "                    t_i += 1\n",
    "                except:\n",
    "                    continue\n",
    "            if t_i != 0:\n",
    "                x_i = x_i / t_i\n",
    "                queue_x[i] = x_i\n",
    "            \n",
    "            # queue_yの処理\n",
    "            if category == 'b':\n",
    "                queue_y[i] = 0\n",
    "            elif category == 't':\n",
    "                queue_y[i] = 1\n",
    "            elif category == 'e':\n",
    "                queue_y[i] = 2\n",
    "            elif category == 'm':\n",
    "                queue_y[i] = 3\n",
    "                \n",
    "    fname2 = 'results/70_result_queue_x_{0}'.format(fname.replace('../chapter_6/', '').replace('.txt', ''))\n",
    "    np.save(fname2, queue_x)\n",
    "    fname3 = 'results/70_result_queue_y_{0}'.format(fname.replace('../chapter_6/', '').replace('.txt', ''))\n",
    "    np.save(fname3, queue_y)"
   ]
  },
  {
   "cell_type": "code",
   "execution_count": 68,
   "metadata": {},
   "outputs": [],
   "source": [
    "import numpy as np\n",
    "\n",
    "make_x_and_y_file('../chapter_6/train.txt')\n",
    "make_x_and_y_file('../chapter_6/valid.txt')\n",
    "make_x_and_y_file('../chapter_6/test.txt')"
   ]
  },
  {
   "cell_type": "code",
   "execution_count": null,
   "metadata": {},
   "outputs": [],
   "source": []
  }
 ],
 "metadata": {
  "kernelspec": {
   "display_name": "Python 3",
   "language": "python",
   "name": "python3"
  },
  "language_info": {
   "codemirror_mode": {
    "name": "ipython",
    "version": 3
   },
   "file_extension": ".py",
   "mimetype": "text/x-python",
   "name": "python",
   "nbconvert_exporter": "python",
   "pygments_lexer": "ipython3",
   "version": "3.7.6"
  }
 },
 "nbformat": 4,
 "nbformat_minor": 4
}
