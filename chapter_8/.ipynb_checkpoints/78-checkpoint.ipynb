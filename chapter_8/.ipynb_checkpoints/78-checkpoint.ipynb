{
 "cells": [
  {
   "cell_type": "code",
   "execution_count": 1,
   "metadata": {
    "colab": {
     "base_uri": "https://localhost:8080/",
     "height": 54
    },
    "colab_type": "code",
    "id": "VX-w6KhX_E_m",
    "outputId": "0571413f-a644-49c6-cb81-a337226880fc"
   },
   "outputs": [
    {
     "name": "stdout",
     "output_type": "stream",
     "text": [
      "Drive already mounted at ./drive; to attempt to forcibly remount, call drive.mount(\"./drive\", force_remount=True).\n"
     ]
    }
   ],
   "source": [
    "from google.colab import drive\n",
    "drive.mount('./drive')"
   ]
  },
  {
   "cell_type": "code",
   "execution_count": 0,
   "metadata": {
    "colab": {},
    "colab_type": "code",
    "id": "YTRQ1Qg8AI8Y"
   },
   "outputs": [],
   "source": [
    "import torch\n",
    "import torch.nn as nn\n",
    "import torch.nn.functional as F\n",
    "\n",
    "class Net(nn.Module):\n",
    "\n",
    "    def __init__(self):\n",
    "        super(Net, self).__init__()\n",
    "        self.fc1 = nn.Linear(300, 4)\n",
    "        \n",
    "    def forward(self, x):\n",
    "        x = self.fc1(x)\n",
    "        return x"
   ]
  },
  {
   "cell_type": "code",
   "execution_count": 3,
   "metadata": {
    "colab": {
     "base_uri": "https://localhost:8080/",
     "height": 34
    },
    "colab_type": "code",
    "id": "YBOSuuGyJJ3m",
    "outputId": "f9daa53e-6d5e-412b-de26-3c1052c8ca77"
   },
   "outputs": [
    {
     "name": "stdout",
     "output_type": "stream",
     "text": [
      "cuda:0\n"
     ]
    }
   ],
   "source": [
    "import numpy as np\n",
    "import torch.optim as optim\n",
    "import time\n",
    "\n",
    "device = torch.device('cuda:0' if torch.cuda.is_available() else 'cpu')\n",
    "print(device)\n",
    "\n",
    "net = Net().to(device)\n",
    "criterion = nn.CrossEntropyLoss()\n",
    "optimizer = optim.SGD(net.parameters(), lr=pow(10, -2)) # lr: 検証の結果、100エポック目で最も精度が高かった数値\n",
    "\n",
    "queue_x = torch.from_numpy(np.load('drive/My Drive/Colab Notebooks/100_knocks/chapter_8/results/70_result_queue_x_train.npy')).float()\n",
    "queue_y = torch.from_numpy(np.load('drive/My Drive/Colab Notebooks/100_knocks/chapter_8/results/70_result_queue_y_train.npy')).long()\n",
    "dataset = torch.utils.data.TensorDataset(queue_x, queue_y)\n",
    "dataloader = torch.utils.data.DataLoader(dataset, batch_size=4)\n",
    "times = []\n",
    "\n",
    "for epoch in range(100):\n",
    "    running_loss = 0\n",
    "\n",
    "    t1 = time.time()\n",
    "    \n",
    "    for data in dataloader:\n",
    "        x, y = data[0].to(device), data[1].to(device)\n",
    "        optimizer.zero_grad()\n",
    "        pre_y = net(x)\n",
    "        loss = criterion(pre_y, y)\n",
    "        loss.backward()\n",
    "        optimizer.step()\n",
    "        running_loss += loss.item()\n",
    "\n",
    "    t2 = time.time()\n",
    "    times.append(t2 - t1)"
   ]
  },
  {
   "cell_type": "code",
   "execution_count": 4,
   "metadata": {
    "colab": {
     "base_uri": "https://localhost:8080/",
     "height": 34
    },
    "colab_type": "code",
    "id": "0-n3olq0V7xC",
    "outputId": "04f42eae-11c8-4a74-b15d-3aa5c18cb216"
   },
   "outputs": [
    {
     "name": "stdout",
     "output_type": "stream",
     "text": [
      "1.6870368885993958\n"
     ]
    }
   ],
   "source": [
    "time_average = sum(times) / len(times)\n",
    "print(time_average)"
   ]
  }
 ],
 "metadata": {
  "accelerator": "GPU",
  "colab": {
   "name": "78.ipynb",
   "provenance": []
  },
  "kernelspec": {
   "display_name": "Python 3",
   "language": "python",
   "name": "python3"
  },
  "language_info": {
   "codemirror_mode": {
    "name": "ipython",
    "version": 3
   },
   "file_extension": ".py",
   "mimetype": "text/x-python",
   "name": "python",
   "nbconvert_exporter": "python",
   "pygments_lexer": "ipython3",
   "version": "3.7.6"
  }
 },
 "nbformat": 4,
 "nbformat_minor": 1
}
