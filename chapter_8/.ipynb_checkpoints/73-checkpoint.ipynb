{
 "cells": [
  {
   "cell_type": "code",
   "execution_count": 1,
   "metadata": {},
   "outputs": [],
   "source": [
    "import torch\n",
    "import torch.nn as nn\n",
    "import torch.nn.functional as F\n",
    "\n",
    "class Net(nn.Module):\n",
    "\n",
    "    def __init__(self):\n",
    "        super(Net, self).__init__()\n",
    "        self.fc1 = nn.Linear(300, 4)\n",
    "        \n",
    "    def forward(self, x):\n",
    "        x = self.fc1(x)\n",
    "        return x"
   ]
  },
  {
   "cell_type": "code",
   "execution_count": 37,
   "metadata": {},
   "outputs": [
    {
     "name": "stdout",
     "output_type": "stream",
     "text": [
      "[10] 0.42494443316670316\n",
      "[20] 0.3940360625393395\n",
      "[30] 0.37961545152409826\n",
      "[40] 0.37082951622379967\n",
      "[50] 0.3648276177561415\n",
      "[60] 0.36044848866517637\n",
      "[70] 0.35711149557907096\n",
      "[80] 0.35448816575150666\n",
      "[90] 0.352376505747149\n",
      "[100] 0.35064446877943173\n",
      "\n",
      "RESULT\n",
      "[100] 0.35064446877943173\n"
     ]
    }
   ],
   "source": [
    "import numpy as np\n",
    "import torch.optim as optim\n",
    "\n",
    "net = Net()\n",
    "criterion = nn.CrossEntropyLoss()\n",
    "optimizer = optim.SGD(net.parameters(), lr=pow(10, -2)) # lr: 検証の結果、100エポック目で最も精度が高かった数値\n",
    "\n",
    "queue_x = torch.from_numpy(np.load('results/70_result_queue_x_train.npy')).float()\n",
    "queue_y = torch.from_numpy(np.load('results/70_result_queue_y_train.npy')).long()\n",
    "dataset = torch.utils.data.TensorDataset(queue_x, queue_y)\n",
    "dataloader = torch.utils.data.DataLoader(dataset)\n",
    "\n",
    "for epoch in range(100):\n",
    "    running_loss = 0\n",
    "    \n",
    "    for data in dataloader:\n",
    "        x, y = data\n",
    "        optimizer.zero_grad()\n",
    "        pre_y = net(x)\n",
    "        loss = criterion(pre_y, y)\n",
    "        loss.backward()\n",
    "        optimizer.step()\n",
    "        running_loss += loss.item()\n",
    "    if epoch % 10 == 9:\n",
    "        print('[{0}] {1}'.format(epoch + 1, running_loss / len(dataloader)))\n",
    "print('')\n",
    "\n",
    "print('RESULT')\n",
    "print('[{0}] {1}'.format(epoch + 1, running_loss / len(dataloader)))\n",
    "torch.save(net.state_dict(), 'results/73_result.pth')"
   ]
  },
  {
   "cell_type": "code",
   "execution_count": null,
   "metadata": {},
   "outputs": [],
   "source": []
  }
 ],
 "metadata": {
  "kernelspec": {
   "display_name": "Python 3",
   "language": "python",
   "name": "python3"
  },
  "language_info": {
   "codemirror_mode": {
    "name": "ipython",
    "version": 3
   },
   "file_extension": ".py",
   "mimetype": "text/x-python",
   "name": "python",
   "nbconvert_exporter": "python",
   "pygments_lexer": "ipython3",
   "version": "3.7.6"
  }
 },
 "nbformat": 4,
 "nbformat_minor": 4
}
