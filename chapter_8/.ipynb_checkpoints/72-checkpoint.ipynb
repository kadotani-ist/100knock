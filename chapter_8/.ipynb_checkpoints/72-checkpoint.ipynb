{
 "cells": [
  {
   "cell_type": "code",
   "execution_count": 1,
   "metadata": {},
   "outputs": [],
   "source": [
    "import torch\n",
    "import torch.nn as nn\n",
    "import torch.nn.functional as F\n",
    "\n",
    "class Net(nn.Module):\n",
    "\n",
    "    def __init__(self):\n",
    "        super(Net, self).__init__()\n",
    "        self.fc1 = nn.Linear(300, 4)\n",
    "        \n",
    "    def forward(self, x):\n",
    "        x = self.fc1(x)\n",
    "        return x"
   ]
  },
  {
   "cell_type": "code",
   "execution_count": 2,
   "metadata": {},
   "outputs": [
    {
     "name": "stdout",
     "output_type": "stream",
     "text": [
      "x_1\n",
      "クロスエントロピー損失: 0.19384634494781494\n",
      "行列Wに対する勾配: tensor([[ 1.9345e-02,  3.0975e-03,  1.8392e-02,  ..., -1.9754e-03,\n",
      "          3.3398e-04, -2.5813e-04],\n",
      "        [-1.2532e-03, -2.0066e-04, -1.1914e-03,  ...,  1.2797e-04,\n",
      "         -2.1635e-05,  1.6722e-05],\n",
      "        [-1.4754e-02, -2.3624e-03, -1.4027e-02,  ...,  1.5066e-03,\n",
      "         -2.5471e-04,  1.9686e-04],\n",
      "        [-3.3382e-03, -5.3451e-04, -3.1737e-03,  ...,  3.4087e-04,\n",
      "         -5.7631e-05,  4.4543e-05]])\n",
      "\n",
      "x_1, x_2, x_3, x_4\n",
      "クロスエントロピー損失: 1.3887302875518799\n",
      "行列Wに対する勾配: tensor([[ 0.0317,  0.0076,  0.0372,  ..., -0.0252, -0.0087,  0.0037],\n",
      "        [-0.0006,  0.0012, -0.0011,  ...,  0.0004,  0.0012,  0.0021],\n",
      "        [-0.0090, -0.0052, -0.0132,  ...,  0.0195,  0.0034, -0.0091],\n",
      "        [-0.0221, -0.0036, -0.0230,  ...,  0.0053,  0.0041,  0.0033]])\n"
     ]
    }
   ],
   "source": [
    "import numpy as np\n",
    "\n",
    "net = Net()\n",
    "criterion = nn.CrossEntropyLoss() # log_softmaxの処理が組み込まれている\n",
    "\n",
    "queue_x = torch.from_numpy(np.load('results/70_result_queue_x_train.npy')).float()\n",
    "queue_y = torch.from_numpy(np.load('results/70_result_queue_y_train.npy')).long()\n",
    "\n",
    "print('x_1')\n",
    "nn.init.normal_(net.fc1.weight)\n",
    "pre_y_1 = net(queue_x[0]).view(1,-1)\n",
    "loss_y_1 = criterion(pre_y_1, queue_y[0:1])\n",
    "net.zero_grad()\n",
    "loss_y_1.backward()\n",
    "grad_y_1 = net.fc1.weight.grad\n",
    "print('クロスエントロピー損失: {0}'.format(loss_y_1))\n",
    "print('行列Wに対する勾配: {0}\\n'.format(grad_y_1))\n",
    "\n",
    "print('x_1, x_2, x_3, x_4')\n",
    "nn.init.normal_(net.fc1.weight)\n",
    "pre_y_1_to_4 = net(queue_x[0:4])\n",
    "loss_y_1_to_4 = criterion(pre_y_1_to_4, queue_y[0:4])\n",
    "net.zero_grad()\n",
    "loss_y_1_to_4.backward()\n",
    "grad_y_1_to_4 = net.fc1.weight.grad\n",
    "print('クロスエントロピー損失: {0}'.format(loss_y_1_to_4))\n",
    "print('行列Wに対する勾配: {0}'.format(grad_y_1_to_4))"
   ]
  },
  {
   "cell_type": "code",
   "execution_count": null,
   "metadata": {},
   "outputs": [],
   "source": []
  }
 ],
 "metadata": {
  "kernelspec": {
   "display_name": "Python 3",
   "language": "python",
   "name": "python3"
  },
  "language_info": {
   "codemirror_mode": {
    "name": "ipython",
    "version": 3
   },
   "file_extension": ".py",
   "mimetype": "text/x-python",
   "name": "python",
   "nbconvert_exporter": "python",
   "pygments_lexer": "ipython3",
   "version": "3.7.6"
  }
 },
 "nbformat": 4,
 "nbformat_minor": 4
}
