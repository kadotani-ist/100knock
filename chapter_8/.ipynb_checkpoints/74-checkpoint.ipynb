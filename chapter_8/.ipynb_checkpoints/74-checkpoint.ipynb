{
 "cells": [
  {
   "cell_type": "code",
   "execution_count": 4,
   "metadata": {},
   "outputs": [],
   "source": [
    "import torch\n",
    "import torch.nn as nn\n",
    "import torch.nn.functional as F\n",
    "\n",
    "class Net(nn.Module):\n",
    "\n",
    "    def __init__(self):\n",
    "        super(Net, self).__init__()\n",
    "        self.fc1 = nn.Linear(300, 4)\n",
    "        \n",
    "    def forward(self, x):\n",
    "        x = self.fc1(x)\n",
    "        return x"
   ]
  },
  {
   "cell_type": "code",
   "execution_count": 5,
   "metadata": {},
   "outputs": [
    {
     "name": "stdout",
     "output_type": "stream",
     "text": [
      "学習データ\n",
      "0.8782063284029208\n",
      "\n",
      "評価データ\n",
      "0.8515742128935532\n"
     ]
    }
   ],
   "source": [
    "import numpy as np\n",
    "\n",
    "net = Net()\n",
    "net.load_state_dict(torch.load('results/73_result.pth'))\n",
    "\n",
    "queue_x_train = torch.from_numpy(np.load('results/70_result_queue_x_train.npy')).float()\n",
    "queue_y_train = torch.from_numpy(np.load('results/70_result_queue_y_train.npy')).long()\n",
    "queue_x_test = torch.from_numpy(np.load('results/70_result_queue_x_test.npy')).float()\n",
    "queue_y_test = torch.from_numpy(np.load('results/70_result_queue_y_test.npy')).long()\n",
    "\n",
    "print('学習データ')\n",
    "pre_queue_y = net(queue_x_train)\n",
    "pre_labels = torch.max(pre_queue_y, 1)[1]\n",
    "accuracy_train = (pre_labels == queue_y_train).sum().item() / len(queue_y_train)\n",
    "print('{0}\\n'.format(accuracy_train))\n",
    "\n",
    "print('評価データ')\n",
    "pre_queue_y = net(queue_x_test)\n",
    "pre_labels = torch.max(pre_queue_y, 1)[1]\n",
    "accuracy_test = (pre_labels == queue_y_test).sum().item() / len(queue_y_test)\n",
    "print(accuracy_test)"
   ]
  },
  {
   "cell_type": "code",
   "execution_count": null,
   "metadata": {},
   "outputs": [],
   "source": []
  }
 ],
 "metadata": {
  "kernelspec": {
   "display_name": "Python 3",
   "language": "python",
   "name": "python3"
  },
  "language_info": {
   "codemirror_mode": {
    "name": "ipython",
    "version": 3
   },
   "file_extension": ".py",
   "mimetype": "text/x-python",
   "name": "python",
   "nbconvert_exporter": "python",
   "pygments_lexer": "ipython3",
   "version": "3.7.6"
  }
 },
 "nbformat": 4,
 "nbformat_minor": 4
}
