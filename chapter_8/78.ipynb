{
  "nbformat": 4,
  "nbformat_minor": 0,
  "metadata": {
    "colab": {
      "name": "78.ipynb",
      "provenance": [],
      "collapsed_sections": []
    },
    "kernelspec": {
      "name": "python3",
      "display_name": "Python 3"
    },
    "accelerator": "GPU"
  },
  "cells": [
    {
      "cell_type": "code",
      "metadata": {
        "id": "VX-w6KhX_E_m",
        "colab_type": "code",
        "outputId": "99423e3a-96d1-4e75-9db1-2ba9e228eca3",
        "colab": {
          "base_uri": "https://localhost:8080/",
          "height": 122
        }
      },
      "source": [
        "from google.colab import drive\n",
        "drive.mount('./drive')"
      ],
      "execution_count": 1,
      "outputs": [
        {
          "output_type": "stream",
          "text": [
            "Go to this URL in a browser: https://accounts.google.com/o/oauth2/auth?client_id=947318989803-6bn6qk8qdgf4n4g3pfee6491hc0brc4i.apps.googleusercontent.com&redirect_uri=urn%3aietf%3awg%3aoauth%3a2.0%3aoob&response_type=code&scope=email%20https%3a%2f%2fwww.googleapis.com%2fauth%2fdocs.test%20https%3a%2f%2fwww.googleapis.com%2fauth%2fdrive%20https%3a%2f%2fwww.googleapis.com%2fauth%2fdrive.photos.readonly%20https%3a%2f%2fwww.googleapis.com%2fauth%2fpeopleapi.readonly\n",
            "\n",
            "Enter your authorization code:\n",
            "··········\n",
            "Mounted at ./drive\n"
          ],
          "name": "stdout"
        }
      ]
    },
    {
      "cell_type": "code",
      "metadata": {
        "id": "YTRQ1Qg8AI8Y",
        "colab_type": "code",
        "colab": {}
      },
      "source": [
        "import torch\n",
        "import torch.nn as nn\n",
        "import torch.nn.functional as F\n",
        "\n",
        "class Net(nn.Module):\n",
        "\n",
        "    def __init__(self):\n",
        "        super(Net, self).__init__()\n",
        "        self.fc1 = nn.Linear(300, 4)\n",
        "        \n",
        "    def forward(self, x):\n",
        "        x = self.fc1(x)\n",
        "        return x"
      ],
      "execution_count": 0,
      "outputs": []
    },
    {
      "cell_type": "code",
      "metadata": {
        "id": "YBOSuuGyJJ3m",
        "colab_type": "code",
        "outputId": "6057c074-cf42-426a-fe0b-2e7fe4f49696",
        "colab": {
          "base_uri": "https://localhost:8080/",
          "height": 34
        }
      },
      "source": [
        "import numpy as np\n",
        "import torch.optim as optim\n",
        "import time\n",
        "\n",
        "device = torch.device('cuda:0' if torch.cuda.is_available() else 'cpu')\n",
        "print(device)\n",
        "\n",
        "net = Net().to(device)\n",
        "criterion = nn.CrossEntropyLoss()\n",
        "optimizer = optim.SGD(net.parameters(), lr=pow(10, -2)) # lr: 検証の結果、100エポック目で最も精度が高かった数値\n",
        "\n",
        "queue_x = torch.from_numpy(np.load('drive/My Drive/Colab Notebooks/100_knocks/chapter_8/results/70_result_queue_x_train.npy')).float()\n",
        "queue_y = torch.from_numpy(np.load('drive/My Drive/Colab Notebooks/100_knocks/chapter_8/results/70_result_queue_y_train.npy')).long()\n",
        "dataset = torch.utils.data.TensorDataset(queue_x, queue_y)\n",
        "dataloader = torch.utils.data.DataLoader(dataset, batch_size=4)\n",
        "times = []\n",
        "\n",
        "for epoch in range(100):\n",
        "    running_loss = 0\n",
        "\n",
        "    t1 = time.time()\n",
        "    \n",
        "    for data in dataloader:\n",
        "        x, y = data[0].to(device), data[1].to(device)\n",
        "        optimizer.zero_grad()\n",
        "        pre_y = net(x)\n",
        "        loss = criterion(pre_y, y)\n",
        "        loss.backward()\n",
        "        optimizer.step()\n",
        "        running_loss += loss.item()\n",
        "\n",
        "    t2 = time.time()\n",
        "    times.append(t2 - t1)"
      ],
      "execution_count": 3,
      "outputs": [
        {
          "output_type": "stream",
          "text": [
            "cuda:0\n"
          ],
          "name": "stdout"
        }
      ]
    },
    {
      "cell_type": "code",
      "metadata": {
        "id": "0-n3olq0V7xC",
        "colab_type": "code",
        "outputId": "934a9017-7c06-498d-ea47-1ab19aaa1509",
        "colab": {
          "base_uri": "https://localhost:8080/",
          "height": 34
        }
      },
      "source": [
        "time_average = sum(times) / len(times)\n",
        "print(time_average)"
      ],
      "execution_count": 4,
      "outputs": [
        {
          "output_type": "stream",
          "text": [
            "1.8613139796257019\n"
          ],
          "name": "stdout"
        }
      ]
    },
    {
      "cell_type": "code",
      "metadata": {
        "id": "wTEkuBbmAJdX",
        "colab_type": "code",
        "colab": {}
      },
      "source": [
        ""
      ],
      "execution_count": 0,
      "outputs": []
    }
  ]
}