{
 "cells": [
  {
   "cell_type": "code",
   "execution_count": 1,
   "metadata": {},
   "outputs": [],
   "source": [
    "import torch\n",
    "import torch.nn as nn\n",
    "import torch.nn.functional as F\n",
    "\n",
    "class Net(nn.Module):\n",
    "\n",
    "    def __init__(self):\n",
    "        super(Net, self).__init__()\n",
    "        self.fc1 = nn.Linear(300, 4)\n",
    "        \n",
    "    def forward(self, x):\n",
    "        x = self.fc1(x)\n",
    "        return  F.softmax(x, dim=0)"
   ]
  },
  {
   "cell_type": "code",
   "execution_count": 2,
   "metadata": {},
   "outputs": [
    {
     "name": "stdout",
     "output_type": "stream",
     "text": [
      "x_1\n",
      "tensor([[0.1553, 0.7627, 0.0799, 0.0020]], grad_fn=<ViewBackward>)\n",
      "\n",
      "x_1, x_2, x_3, x_4\n",
      "tensor([[0.4752, 0.1028, 0.8496, 0.5500],\n",
      "        [0.3476, 0.1464, 0.0247, 0.1755],\n",
      "        [0.1336, 0.2657, 0.1089, 0.1410],\n",
      "        [0.0436, 0.4852, 0.0168, 0.1335]], grad_fn=<SoftmaxBackward>)\n"
     ]
    }
   ],
   "source": [
    "import numpy as np\n",
    "\n",
    "net = Net()\n",
    "\n",
    "queue_x = torch.from_numpy(np.load('results/70_result_queue_x_train.npy')).float()\n",
    "\n",
    "print('x_1')\n",
    "nn.init.normal_(net.fc1.weight)\n",
    "pre_y_1 = net(queue_x[0]).view(1,-1)\n",
    "print('{0}\\n'.format(pre_y_1))\n",
    "\n",
    "print('x_1, x_2, x_3, x_4')\n",
    "nn.init.normal_(net.fc1.weight)\n",
    "pre_y_1_to_4 = net(queue_x[0:4])\n",
    "print(pre_y_1_to_4)"
   ]
  },
  {
   "cell_type": "code",
   "execution_count": null,
   "metadata": {},
   "outputs": [],
   "source": []
  }
 ],
 "metadata": {
  "kernelspec": {
   "display_name": "Python 3",
   "language": "python",
   "name": "python3"
  },
  "language_info": {
   "codemirror_mode": {
    "name": "ipython",
    "version": 3
   },
   "file_extension": ".py",
   "mimetype": "text/x-python",
   "name": "python",
   "nbconvert_exporter": "python",
   "pygments_lexer": "ipython3",
   "version": "3.7.6"
  }
 },
 "nbformat": 4,
 "nbformat_minor": 4
}
