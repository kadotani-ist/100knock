{
 "cells": [
  {
   "cell_type": "code",
   "execution_count": 2,
   "metadata": {},
   "outputs": [],
   "source": [
    "import MeCab\n",
    "\n",
    "with open('kftt-data-1.0/data/orig/kyoto-train.ja') as file, open('results/90_result_train.ja', mode='w') as file2:\n",
    "    m = MeCab.Tagger('-Owakati -d /usr/local/lib/mecab/dic/mecab-ipadic-neologd')\n",
    "    output_lines = []\n",
    "    \n",
    "    for line in file:\n",
    "        output_lines.append(m.parse(line))\n",
    "    file2.writelines(output_lines)\n",
    "    \n",
    "with open('kftt-data-1.0/data/orig/kyoto-dev.ja') as file, open('results/90_result_dev.ja', mode='w') as file2:\n",
    "    m = MeCab.Tagger('-Owakati -d /usr/local/lib/mecab/dic/mecab-ipadic-neologd')\n",
    "    output_lines = []\n",
    "    \n",
    "    for line in file:\n",
    "        output_lines.append(m.parse(line))\n",
    "    file2.writelines(output_lines)\n",
    "    \n",
    "with open('kftt-data-1.0/data/orig/kyoto-test.ja') as file, open('results/90_result_test.ja', mode='w') as file2:\n",
    "    m = MeCab.Tagger('-Owakati -d /usr/local/lib/mecab/dic/mecab-ipadic-neologd')\n",
    "    output_lines = []\n",
    "    \n",
    "    for line in file:\n",
    "        output_lines.append(m.parse(line))\n",
    "    file2.writelines(output_lines)"
   ]
  },
  {
   "cell_type": "code",
   "execution_count": 1,
   "metadata": {},
   "outputs": [
    {
     "name": "stdout",
     "output_type": "stream",
     "text": [
      "/usr/local/lib/mecab/dic /mecab-ipadic-neologd\r\n"
     ]
    }
   ],
   "source": [
    "!echo `mecab-config --dicdir` '/mecab-ipadic-neologd'"
   ]
  },
  {
   "cell_type": "code",
   "execution_count": 3,
   "metadata": {},
   "outputs": [],
   "source": [
    "import nltk\n",
    "\n",
    "with open('kftt-data-1.0/data/orig/kyoto-train.en') as file, open('results/90_result_train.en', mode='w') as file2:\n",
    "    output_lines = []\n",
    "    \n",
    "    for line in file:\n",
    "        output_lines.append(' '.join(nltk.word_tokenize(line)) + '\\n')\n",
    "    file2.writelines(output_lines)\n",
    "    \n",
    "with open('kftt-data-1.0/data/orig/kyoto-dev.en') as file, open('results/90_result_dev.en', mode='w') as file2:\n",
    "    output_lines = []\n",
    "    \n",
    "    for line in file:\n",
    "        output_lines.append(' '.join(nltk.word_tokenize(line)) + '\\n')\n",
    "    file2.writelines(output_lines)\n",
    "    \n",
    "with open('kftt-data-1.0/data/orig/kyoto-test.en') as file, open('results/90_result_test.en', mode='w') as file2:\n",
    "    output_lines = []\n",
    "    \n",
    "    for line in file:\n",
    "        output_lines.append(' '.join(nltk.word_tokenize(line)) + '\\n')\n",
    "    file2.writelines(output_lines)"
   ]
  },
  {
   "cell_type": "code",
   "execution_count": null,
   "metadata": {},
   "outputs": [],
   "source": []
  }
 ],
 "metadata": {
  "kernelspec": {
   "display_name": "Python 3",
   "language": "python",
   "name": "python3"
  },
  "language_info": {
   "codemirror_mode": {
    "name": "ipython",
    "version": 3
   },
   "file_extension": ".py",
   "mimetype": "text/x-python",
   "name": "python",
   "nbconvert_exporter": "python",
   "pygments_lexer": "ipython3",
   "version": "3.7.6"
  }
 },
 "nbformat": 4,
 "nbformat_minor": 4
}
