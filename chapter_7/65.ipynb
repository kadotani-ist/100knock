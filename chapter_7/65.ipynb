{
 "cells": [
  {
   "cell_type": "code",
   "execution_count": 2,
   "metadata": {},
   "outputs": [
    {
     "data": {
      "text/plain": [
       "0.8320158102766798"
      ]
     },
     "execution_count": 2,
     "metadata": {},
     "output_type": "execute_result"
    }
   ],
   "source": [
    "fname = 'results/64_result.txt'\n",
    "correct_count = 0\n",
    "\n",
    "with open(fname) as file:\n",
    "    lines = file.readlines()\n",
    "    \n",
    "    for line in lines[1:]:\n",
    "        line = line.rstrip('\\n')\n",
    "        vec_words = line.split()\n",
    "        \n",
    "        if vec_words[3] == vec_words[4]:\n",
    "            correct_count += 1\n",
    "            \n",
    "accuracy = correct_count / len(lines[1:]) \n",
    "accuracy"
   ]
  },
  {
   "cell_type": "code",
   "execution_count": null,
   "metadata": {},
   "outputs": [],
   "source": []
  }
 ],
 "metadata": {
  "kernelspec": {
   "display_name": "Python 3",
   "language": "python",
   "name": "python3"
  },
  "language_info": {
   "codemirror_mode": {
    "name": "ipython",
    "version": 3
   },
   "file_extension": ".py",
   "mimetype": "text/x-python",
   "name": "python",
   "nbconvert_exporter": "python",
   "pygments_lexer": "ipython3",
   "version": "3.7.6"
  }
 },
 "nbformat": 4,
 "nbformat_minor": 4
}
