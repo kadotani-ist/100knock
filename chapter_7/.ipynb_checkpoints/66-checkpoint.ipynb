{
 "cells": [
  {
   "cell_type": "code",
   "execution_count": 14,
   "metadata": {},
   "outputs": [
    {
     "name": "stderr",
     "output_type": "stream",
     "text": [
      "unable to import 'smart_open.gcs', disabling that module\n"
     ]
    }
   ],
   "source": [
    "import gensim\n",
    "\n",
    "model = gensim.models.KeyedVectors.load_word2vec_format('GoogleNews-vectors-negative300.bin', binary=True)"
   ]
  },
  {
   "cell_type": "code",
   "execution_count": 54,
   "metadata": {},
   "outputs": [
    {
     "data": {
      "text/plain": [
       "0.6847126981147724"
      ]
     },
     "execution_count": 54,
     "metadata": {},
     "output_type": "execute_result"
    }
   ],
   "source": [
    "import csv\n",
    "import numpy as np\n",
    "\n",
    "fname = 'wordsim353/combined.csv'\n",
    "word1 = []\n",
    "word2 = []\n",
    "human = []\n",
    "word2vec = []\n",
    "\n",
    "with open(fname) as file:\n",
    "    reader = csv.reader(file)\n",
    "    for row in reader:\n",
    "        word1.append(row[0])\n",
    "        word2.append(row[1])\n",
    "        human.append(row[2])\n",
    "        \n",
    "word1 = word1[1:]\n",
    "word2 = word2[1:]\n",
    "human_queue = np.asarray(human[1:])\n",
    "human_rank_indexes = np.argsort(human_queue)\n",
    "n = len(word1)\n",
    "human_rank = [0] * n\n",
    "word2vec_rank = [0] * n\n",
    "\n",
    "for i, j in zip(word1, word2):\n",
    "    word2vec.append(model.similarity(w1 = i, w2 = j))\n",
    "word2vec_queue = np.asarray(word2vec)\n",
    "word2vec_rank_indexes = np.argsort(word2vec_queue)\n",
    "for i in range(n):\n",
    "    human_rank[human_rank_indexes[i]] = i\n",
    "    word2vec_rank[word2vec_rank_indexes[i]] = i\n",
    "human_rank_queue = np.asarray(human_rank)\n",
    "word2vec_rank_queue = np.asarray(word2vec_rank)\n",
    "\n",
    "result = 1 - (6 * np.sum(np.square(word2vec_rank_queue - human_rank_queue))) / (pow(n, 3) - n)\n",
    "result"
   ]
  },
  {
   "cell_type": "code",
   "execution_count": null,
   "metadata": {},
   "outputs": [],
   "source": []
  }
 ],
 "metadata": {
  "kernelspec": {
   "display_name": "Python 3",
   "language": "python",
   "name": "python3"
  },
  "language_info": {
   "codemirror_mode": {
    "name": "ipython",
    "version": 3
   },
   "file_extension": ".py",
   "mimetype": "text/x-python",
   "name": "python",
   "nbconvert_exporter": "python",
   "pygments_lexer": "ipython3",
   "version": "3.7.6"
  }
 },
 "nbformat": 4,
 "nbformat_minor": 4
}
