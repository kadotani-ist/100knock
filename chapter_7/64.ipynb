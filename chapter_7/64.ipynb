{
 "cells": [
  {
   "cell_type": "code",
   "execution_count": 1,
   "metadata": {},
   "outputs": [
    {
     "name": "stderr",
     "output_type": "stream",
     "text": [
      "unable to import 'smart_open.gcs', disabling that module\n"
     ]
    }
   ],
   "source": [
    "import gensim\n",
    "\n",
    "model = gensim.models.KeyedVectors.load_word2vec_format('GoogleNews-vectors-negative300.bin', binary=True)"
   ]
  },
  {
   "cell_type": "code",
   "execution_count": 41,
   "metadata": {},
   "outputs": [],
   "source": [
    "import numpy as np\n",
    "\n",
    "fname = 'questions-words.txt'\n",
    "words = model.index2word\n",
    "result_lines = []\n",
    "\n",
    "with open(fname) as file:\n",
    "    lines = file.readlines()\n",
    "    \n",
    "    for line in lines:\n",
    "        line = line.rstrip('\\n')\n",
    "        vec_words = line.split()\n",
    "        \n",
    "        if len(vec_words) == 4:\n",
    "            similarity_rank = model.most_similar(positive=[vec_words[1], vec_words[2]], negative=[vec_words[0]])\n",
    "            best_word = similarity_rank[0][0]\n",
    "            best_similarity = similarity_rank[0][1]\n",
    "            result_lines.append('{0} {1} {2}\\n'.format(line, best_word, best_similarity))\n",
    "        else:\n",
    "            if vec_words[1] == 'capital-common-countries':\n",
    "                result_lines.append('{0}\\n'.format(line))\n",
    "            else:\n",
    "                break #処理時間が長い為、\"capital-common-countries\"以外は省略\n",
    "            \n",
    "with open('results/64_result.txt', 'w') as file:\n",
    "    file.writelines(result_lines)"
   ]
  },
  {
   "cell_type": "code",
   "execution_count": null,
   "metadata": {},
   "outputs": [],
   "source": []
  }
 ],
 "metadata": {
  "kernelspec": {
   "display_name": "Python 3",
   "language": "python",
   "name": "python3"
  },
  "language_info": {
   "codemirror_mode": {
    "name": "ipython",
    "version": 3
   },
   "file_extension": ".py",
   "mimetype": "text/x-python",
   "name": "python",
   "nbconvert_exporter": "python",
   "pygments_lexer": "ipython3",
   "version": "3.7.6"
  }
 },
 "nbformat": 4,
 "nbformat_minor": 4
}
