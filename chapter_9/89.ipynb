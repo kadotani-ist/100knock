{
 "cells": [
  {
   "cell_type": "code",
   "execution_count": 1,
   "metadata": {},
   "outputs": [],
   "source": [
    "import torch\n",
    "import torch.nn as nn\n",
    "import torch.nn.functional as F\n",
    "from pytorch_transformers import BertTokenizer, BertForSequenceClassification\n",
    "\n",
    "tokenizer = BertTokenizer.from_pretrained('bert-base-uncased')\n",
    "pretrained_model = BertForSequenceClassification.from_pretrained('bert-base-uncased')"
   ]
  },
  {
   "cell_type": "code",
   "execution_count": 2,
   "metadata": {},
   "outputs": [],
   "source": [
    "def make_dataset(fname):\n",
    "    with open(fname) as file:\n",
    "        titles = []\n",
    "        labels = []\n",
    "        \n",
    "        for line in file:\n",
    "            line = line.rstrip('\\n')\n",
    "            category = line.strip('\\t')[0]\n",
    "            title = line.split('\\t')[1]\n",
    "            \n",
    "            # titlesの処理\n",
    "            titles.append(title)\n",
    "            \n",
    "            # labelsの処理\n",
    "            if category == 'b':\n",
    "                labels.append(0)\n",
    "            elif category == 't':\n",
    "                labels.append(1)\n",
    "            elif category == 'e':\n",
    "                labels.append(2)\n",
    "            elif category == 'm':\n",
    "                labels.append(3)\n",
    "                \n",
    "    return titles, labels"
   ]
  },
  {
   "cell_type": "code",
   "execution_count": 3,
   "metadata": {},
   "outputs": [],
   "source": [
    "def get_loss_and_accyracy(model, titles, labels):\n",
    "    running_loss = 0\n",
    "    correct_count = 0\n",
    "    \n",
    "    for title, label in zip(titles, labels):\n",
    "        input_id = torch.tensor(tokenizer.encode(title, add_special_tokens=True)).unsqueeze(0)\n",
    "        label = torch.tensor([label])\n",
    "        \n",
    "        outputs = model(input_id)\n",
    "        loss = criterion(outputs[0], label)\n",
    "        running_loss += loss\n",
    "        pre_label = torch.max(outputs[0], 1)[1]\n",
    "        if pre_label == label:\n",
    "            correct_count += 1\n",
    "            \n",
    "    return running_loss / len(labels), correct_count / len(labels)"
   ]
  },
  {
   "cell_type": "code",
   "execution_count": 22,
   "metadata": {},
   "outputs": [
    {
     "name": "stdout",
     "output_type": "stream",
     "text": [
      "[1] 訓練データ上の損失: 1.1112159490585327\t訓練データ上の正解率: 0.5405734632683659\n",
      "[2] 訓練データ上の損失: 1.0670416355133057\t訓練データ上の正解率: 0.5763680659670165\n",
      "[3] 訓練データ上の損失: 1.049731969833374\t訓練データ上の正解率: 0.5868628185907047\n",
      "[4] 訓練データ上の損失: 1.0391135215759277\t訓練データ上の正解率: 0.5909857571214393\n",
      "[5] 訓練データ上の損失: 1.0314867496490479\t訓練データ上の正解率: 0.594171664167916\n",
      "[6] 訓練データ上の損失: 1.025572419166565\t訓練データ上の正解率: 0.597263868065967\n",
      "[7] 訓練データ上の損失: 1.0207574367523193\t訓練データ上の正解率: 0.5988568215892054\n",
      "[8] 訓練データ上の損失: 1.0167187452316284\t訓練データ上の正解率: 0.6013868065967016\n",
      "[9] 訓練データ上の損失: 1.0132509469985962\t訓練データ上の正解率: 0.6037293853073463\n",
      "[10] 訓練データ上の損失: 1.0102144479751587\t訓練データ上の正解率: 0.6052286356821589\n",
      "\n",
      "RESULT\n",
      "評価データ上の損失: 0.8935148119926453\t評価データ上の正解率: 0.5727136431784108\n"
     ]
    }
   ],
   "source": [
    "import torch.optim as optim\n",
    "\n",
    "model = pretrained_model\n",
    "for param in model.parameters():\n",
    "    param.requires_grad = False\n",
    "classifier_input = model.classifier.in_features\n",
    "model.classifier = nn.Linear(classifier_input, 4)\n",
    "criterion = nn.CrossEntropyLoss()\n",
    "optimizer = optim.SGD(model.parameters(), lr=pow(10, -3)) # lr: 検証の結果、10エポック目で最も精度が高かった数値\n",
    "\n",
    "titles, labels = make_dataset('../chapter_6/train.txt')\n",
    "titles_test, labels_test = make_dataset('../chapter_6/test.txt')\n",
    "\n",
    "for epoch in range(10):\n",
    "    running_loss = 0\n",
    "    correct_count = 0\n",
    "    \n",
    "    for title, label in zip(titles, labels):\n",
    "        input_id = torch.tensor(tokenizer.encode(title, add_special_tokens=True)).unsqueeze(0)\n",
    "        label = torch.tensor([label])\n",
    "        \n",
    "        optimizer.zero_grad()\n",
    "        outputs = model(input_id)\n",
    "        loss = criterion(outputs[0], label)\n",
    "        loss.backward()\n",
    "        optimizer.step()\n",
    "        running_loss += loss\n",
    "        pre_label = torch.max(outputs[0], 1)[1]\n",
    "        if pre_label == label:\n",
    "            correct_count += 1\n",
    "    print('[{0}] 訓練データ上の損失: {1}\\t訓練データ上の正解率: {2}'.format(epoch + 1, running_loss / len(labels), correct_count / len(labels)))\n",
    "print('')\n",
    "\n",
    "print('RESULT')\n",
    "loss_test, accuracy_test = get_loss_and_accyracy(model, titles_test, labels_test)\n",
    "print('評価データ上の損失: {0}\\t評価データ上の正解率: {1}'.format(loss_test, accuracy_test))"
   ]
  },
  {
   "cell_type": "code",
   "execution_count": null,
   "metadata": {},
   "outputs": [],
   "source": []
  }
 ],
 "metadata": {
  "kernelspec": {
   "display_name": "Python 3",
   "language": "python",
   "name": "python3"
  },
  "language_info": {
   "codemirror_mode": {
    "name": "ipython",
    "version": 3
   },
   "file_extension": ".py",
   "mimetype": "text/x-python",
   "name": "python",
   "nbconvert_exporter": "python",
   "pygments_lexer": "ipython3",
   "version": "3.7.6"
  }
 },
 "nbformat": 4,
 "nbformat_minor": 4
}
