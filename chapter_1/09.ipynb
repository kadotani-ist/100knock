{
 "cells": [
  {
   "cell_type": "code",
   "execution_count": 13,
   "metadata": {},
   "outputs": [
    {
     "name": "stdout",
     "output_type": "stream",
     "text": [
      "I cnulo’dt blvieee that I cuold alualcty uastenndrd what I was raniedg : the pheomaennl peowr of the hmaun mind .\n"
     ]
    }
   ],
   "source": [
    "import random\n",
    "\n",
    "sentence = 'I couldn’t believe that I could actually understand what I was reading : the phenomenal power of the human mind .'\n",
    "result = ''\n",
    "\n",
    "words = sentence.split()\n",
    "for word in words:\n",
    "    if len(word) > 4:\n",
    "        new_word = word[0] + ''.join(random.sample(word[1:-1], len(word[1:-1]))) + word[-1]\n",
    "        result += new_word + ' '\n",
    "    else:\n",
    "        result += word + ' '\n",
    "result = result.rstrip()\n",
    "        \n",
    "print(result)"
   ]
  },
  {
   "cell_type": "code",
   "execution_count": null,
   "metadata": {},
   "outputs": [],
   "source": []
  }
 ],
 "metadata": {
  "kernelspec": {
   "display_name": "Python 3",
   "language": "python",
   "name": "python3"
  },
  "language_info": {
   "codemirror_mode": {
    "name": "ipython",
    "version": 3
   },
   "file_extension": ".py",
   "mimetype": "text/x-python",
   "name": "python",
   "nbconvert_exporter": "python",
   "pygments_lexer": "ipython3",
   "version": "3.7.6"
  }
 },
 "nbformat": 4,
 "nbformat_minor": 4
}
