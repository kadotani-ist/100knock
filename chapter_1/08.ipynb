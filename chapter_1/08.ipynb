{
 "cells": [
  {
   "cell_type": "code",
   "execution_count": 25,
   "metadata": {},
   "outputs": [],
   "source": [
    "def cipher(sentence):\n",
    "    result = ''\n",
    "    for i in sentence:\n",
    "        result += chr(219-ord(i)) if i.islower() else i\n",
    "    return result"
   ]
  },
  {
   "cell_type": "code",
   "execution_count": 27,
   "metadata": {},
   "outputs": [
    {
     "name": "stdout",
     "output_type": "stream",
     "text": [
      "enter sentence: I couldn't believe that I could actually understand what I was reading : the phenomenal power of the human mind .\n",
      "暗号化: I xlfowm'g yvorvev gszg I xlfow zxgfzoob fmwvihgzmw dszg I dzh ivzwrmt : gsv ksvmlnvmzo kldvi lu gsv sfnzm nrmw .\n",
      "復号化: I couldn't believe that I could actually understand what I was reading : the phenomenal power of the human mind .\n"
     ]
    }
   ],
   "source": [
    "sentence = input('enter sentence: ')\n",
    "\n",
    "encode = cipher(sentence)\n",
    "decode = cipher(encode)\n",
    "\n",
    "print('暗号化: ' + encode)\n",
    "print('復号化: ' + decode)"
   ]
  },
  {
   "cell_type": "code",
   "execution_count": null,
   "metadata": {},
   "outputs": [],
   "source": []
  }
 ],
 "metadata": {
  "kernelspec": {
   "display_name": "Python 3",
   "language": "python",
   "name": "python3"
  },
  "language_info": {
   "codemirror_mode": {
    "name": "ipython",
    "version": 3
   },
   "file_extension": ".py",
   "mimetype": "text/x-python",
   "name": "python",
   "nbconvert_exporter": "python",
   "pygments_lexer": "ipython3",
   "version": "3.7.6"
  }
 },
 "nbformat": 4,
 "nbformat_minor": 4
}
