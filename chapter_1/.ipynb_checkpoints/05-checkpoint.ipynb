{
 "cells": [
  {
   "cell_type": "code",
   "execution_count": 59,
   "metadata": {},
   "outputs": [],
   "source": [
    "def make_ngram(sentence, n, mode): # mode: 0 > 単語, 1 > 文字\n",
    "    if mode == 0:\n",
    "        words = sentence.split()\n",
    "        ngram = []\n",
    "        for i, word in enumerate(range(len(words))):\n",
    "            element = list(map(lambda j: words[i+j] if i+j < len(words) else '', range(n)))\n",
    "            if '' not in element:\n",
    "                ngram.append(element)\n",
    "        return ngram\n",
    "    elif mode == 1:\n",
    "        ngram = list(map(lambda j: sentence[j:j+n], range(len(sentence)-n+1)))\n",
    "        return ngram"
   ]
  },
  {
   "cell_type": "code",
   "execution_count": 62,
   "metadata": {},
   "outputs": [
    {
     "name": "stdout",
     "output_type": "stream",
     "text": [
      "[['I', 'am'], ['am', 'an'], ['an', 'NLPer']]\n",
      "['I ', ' a', 'am', 'm ', ' a', 'an', 'n ', ' N', 'NL', 'LP', 'Pe', 'er']\n"
     ]
    }
   ],
   "source": [
    "sentence = 'I am an NLPer'\n",
    "\n",
    "result = make_ngram(sentence, 2, 0)\n",
    "result2 = make_ngram(sentence, 2, 1)\n",
    "\n",
    "print(result)\n",
    "print(result2)"
   ]
  },
  {
   "cell_type": "code",
   "execution_count": null,
   "metadata": {},
   "outputs": [],
   "source": []
  }
 ],
 "metadata": {
  "kernelspec": {
   "display_name": "Python 3",
   "language": "python",
   "name": "python3"
  },
  "language_info": {
   "codemirror_mode": {
    "name": "ipython",
    "version": 3
   },
   "file_extension": ".py",
   "mimetype": "text/x-python",
   "name": "python",
   "nbconvert_exporter": "python",
   "pygments_lexer": "ipython3",
   "version": "3.7.6"
  }
 },
 "nbformat": 4,
 "nbformat_minor": 4
}
