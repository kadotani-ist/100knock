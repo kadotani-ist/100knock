{
 "cells": [
  {
   "cell_type": "code",
   "execution_count": 1,
   "metadata": {},
   "outputs": [],
   "source": [
    "def make_ngram(sentence, n, mode): # mode: 0 > 単語, 1 > 文字\n",
    "    if mode == 0:\n",
    "        words = sentence.split()\n",
    "        ngram = []\n",
    "        for i, word in enumerate(range(len(words))):\n",
    "            element = list(map(lambda j: words[i+j] if i+j < len(words) else '', range(n)))\n",
    "            if '' not in element:\n",
    "                ngram.append(element)\n",
    "        return ngram\n",
    "    elif mode == 1:\n",
    "        ngram = list(map(lambda j: sentence[j:j+n], range(len(sentence)-n+1)))\n",
    "        return ngram"
   ]
  },
  {
   "cell_type": "code",
   "execution_count": 14,
   "metadata": {},
   "outputs": [
    {
     "name": "stdout",
     "output_type": "stream",
     "text": [
      "X: {'ad', 'se', 'di', 'pa', 'ra', 'is', 'ap', 'ar'}\n",
      "Y: {'ag', 'ph', 'gr', 'pa', 'ra', 'ap', 'ar'}\n",
      "和集合: {'ag', 'ph', 'ad', 'gr', 'se', 'di', 'pa', 'ra', 'is', 'ap', 'ar'}\n",
      "積集合: {'ap', 'pa', 'ra', 'ar'}\n",
      "差集合: {'ad', 'di', 'is', 'se'}\n",
      "'se' in X\n",
      "'se' not in Y\n"
     ]
    }
   ],
   "source": [
    "X = set(make_ngram('paraparaparadise', 2, 1))\n",
    "Y = set(make_ngram('paragraph', 2 ,1))\n",
    "union = X | Y\n",
    "intersection = X & Y\n",
    "difference = X - Y\n",
    "\n",
    "print('X: ' + str(X))\n",
    "print('Y: ' + str(Y))\n",
    "print('和集合: ' + str(union))\n",
    "print('積集合: ' + str(intersection))\n",
    "print('差集合: ' + str(difference))\n",
    "print('\\'se\\' in X') if 'se' in X else print('\\'se\\' not in X')\n",
    "print('\\'se\\' in Y') if 'se' in Y else print('\\'se\\' not in Y')"
   ]
  },
  {
   "cell_type": "code",
   "execution_count": null,
   "metadata": {},
   "outputs": [],
   "source": []
  }
 ],
 "metadata": {
  "kernelspec": {
   "display_name": "Python 3",
   "language": "python",
   "name": "python3"
  },
  "language_info": {
   "codemirror_mode": {
    "name": "ipython",
    "version": 3
   },
   "file_extension": ".py",
   "mimetype": "text/x-python",
   "name": "python",
   "nbconvert_exporter": "python",
   "pygments_lexer": "ipython3",
   "version": "3.7.6"
  }
 },
 "nbformat": 4,
 "nbformat_minor": 4
}
