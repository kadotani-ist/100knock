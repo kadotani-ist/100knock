{
 "cells": [
  {
   "cell_type": "code",
   "execution_count": 26,
   "metadata": {
    "scrolled": true
   },
   "outputs": [
    {
     "name": "stdout",
     "output_type": "stream",
     "text": [
      "enter natural number: 3\n",
      "results/16_result_1.txt: 1 to 927\n",
      "results/16_result_2.txt: 928 to 1854\n",
      "results/16_result_3.txt: 1855 to 2780\n"
     ]
    }
   ],
   "source": [
    "fname = 'popular-names.txt'\n",
    "N = int(input('enter natural number: '))\n",
    "\n",
    "with open(fname) as file:\n",
    "    lines = file.readlines()\n",
    "    file_size = len(lines)\n",
    "    quotient = file_size // N\n",
    "    reminder = file_size % N\n",
    "    stop = 0\n",
    "    \n",
    "    for i in range(N):\n",
    "        with open('results/16_result_{}.txt'.format(i+1), 'w') as file2:\n",
    "            start = stop + 1\n",
    "            stop = start + quotient if i < reminder else start + quotient - 1\n",
    "            print('results/16_result_{0}.txt: {1} to {2}'.format(i+1, start, stop))\n",
    "            file2.writelines(lines[start-1 : stop])"
   ]
  },
  {
   "cell_type": "code",
   "execution_count": null,
   "metadata": {},
   "outputs": [],
   "source": []
  }
 ],
 "metadata": {
  "kernelspec": {
   "display_name": "Python 3",
   "language": "python",
   "name": "python3"
  },
  "language_info": {
   "codemirror_mode": {
    "name": "ipython",
    "version": 3
   },
   "file_extension": ".py",
   "mimetype": "text/x-python",
   "name": "python",
   "nbconvert_exporter": "python",
   "pygments_lexer": "ipython3",
   "version": "3.7.6"
  }
 },
 "nbformat": 4,
 "nbformat_minor": 4
}
