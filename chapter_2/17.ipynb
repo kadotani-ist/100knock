{
 "cells": [
  {
   "cell_type": "code",
   "execution_count": 4,
   "metadata": {},
   "outputs": [
    {
     "name": "stdout",
     "output_type": "stream",
     "text": [
      "{'Amy', 'Frank', 'Elijah', 'Debra', 'Amanda', 'Doris', 'Gary', 'Crystal', 'Alexis', 'Madison', 'Alice', 'Evelyn', 'Amelia', 'Mildred', 'Kelly', 'Carolyn', 'James', 'John', 'Anna', 'Charlotte', 'Robert', 'Betty', 'Christopher', 'Sarah', 'Tammy', 'Donald', 'Patricia', 'Larry', 'Benjamin', 'Melissa', 'Annie', 'Brian', 'Frances', 'Ava', 'Ruth', 'Minnie', 'Pamela', 'Bessie', 'Lillian', 'Justin', 'Mary', 'Mark', 'Sandra', 'Michael', 'Mia', 'Harper', 'Ashley', 'Lauren', 'Cynthia', 'Samantha', 'Ethan', 'Angela', 'Logan', 'Joan', 'Elizabeth', 'Jacob', 'Lori', 'Alexander', 'Joseph', 'Jennifer', 'Matthew', 'Austin', 'Scott', 'Olivia', 'William', 'Florence', 'Chloe', 'Donna', 'Anthony', 'Jessica', 'Susan', 'Walter', 'George', 'Abigail', 'Ethel', 'Joshua', 'Rebecca', 'Mason', 'Barbara', 'Rachel', 'Noah', 'Edward', 'Marie', 'Emily', 'Richard', 'Dorothy', 'Thomas', 'Michelle', 'Jeffrey', 'Daniel', 'Brittany', 'Tyler', 'Kimberly', 'Nicole', 'Kathleen', 'Virginia', 'Laura', 'Charles', 'Isabella', 'Bertha', 'Andrew', 'Heather', 'Jayden', 'Taylor', 'Judith', 'Hannah', 'Sharon', 'Tracy', 'Jason', 'Oliver', 'Sophia', 'Margaret', 'David', 'Nicholas', 'Ida', 'Stephanie', 'Carol', 'Steven', 'Lisa', 'Harry', 'Helen', 'Brandon', 'Ronald', 'Clara', 'Megan', 'Lucas', 'Nancy', 'Aiden', 'Liam', 'Emma', 'Linda', 'Shirley', 'Henry', 'Karen', 'Deborah', 'Julie'}\n"
     ]
    }
   ],
   "source": [
    "fname = 'popular-names.txt'\n",
    "col1_set = set()\n",
    "\n",
    "with open(fname) as file:\n",
    "    for line in file:\n",
    "        element = line.split()\n",
    "        col1_set.add(element[0])\n",
    "        \n",
    "print(col1_set)"
   ]
  },
  {
   "cell_type": "code",
   "execution_count": null,
   "metadata": {},
   "outputs": [],
   "source": []
  }
 ],
 "metadata": {
  "kernelspec": {
   "display_name": "Python 3",
   "language": "python",
   "name": "python3"
  },
  "language_info": {
   "codemirror_mode": {
    "name": "ipython",
    "version": 3
   },
   "file_extension": ".py",
   "mimetype": "text/x-python",
   "name": "python",
   "nbconvert_exporter": "python",
   "pygments_lexer": "ipython3",
   "version": "3.7.6"
  }
 },
 "nbformat": 4,
 "nbformat_minor": 4
}
