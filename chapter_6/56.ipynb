{
 "cells": [
  {
   "cell_type": "code",
   "execution_count": 1,
   "metadata": {},
   "outputs": [
    {
     "name": "stdout",
     "output_type": "stream",
     "text": [
      "CATEGORY\n",
      "business(b)\n",
      "適合率: 0.9334532374100719\t再現率: 0.9284436493738819\tF1スコア: 0.46547085201793725\n",
      "science and technology(t)\n",
      "適合率: 0.7718120805369127\t再現率: 0.7516339869281046\tF1スコア: 0.38079470198675497\n",
      "entertainment(e)\n",
      "適合率: 0.9237749546279492\t再現率: 0.9713740458015268\tF1スコア: 0.4734883720930233\n",
      "health(h)\n",
      "適合率: 0.8974358974358975\t再現率: 0.7142857142857143\tF1スコア: 0.39772727272727276\n",
      "\n",
      "AVERAGE\n",
      "適合率\n",
      "マイクロ平均: 0.9092953523238381\tマクロ平均: 0.8816190425027078\n",
      "再現率\n",
      "マイクロ平均: 0.9092953523238381\tマクロ平均: 0.8414343490973069\n",
      "F1スコア\n",
      "マイクロ平均: 0.9092953523238381\tマクロ平均: 0.429370299706247\n"
     ]
    }
   ],
   "source": [
    "import numpy as np\n",
    "\n",
    "matrix = np.load('results/55_result_test.npy')\n",
    "\n",
    "print('CATEGORY')\n",
    "print('business(b)')\n",
    "b_precision = matrix[0][0] / np.sum(matrix, axis = 0)[0] if not np.all(matrix[0][0] == np.sum(matrix, axis = 0)[0]) else 1\n",
    "b_recall = matrix[0][0] / np.sum(matrix, axis = 1)[0] if not np.all(matrix[0][0] == np.sum(matrix, axis = 1)[0]) else 1\n",
    "b_f1score = 1 / (1 / b_precision +  1 / b_recall)\n",
    "print('適合率: {0}\\t再現率: {1}\\tF1スコア: {2}'.format(b_precision, b_recall, b_f1score))\n",
    "\n",
    "print('science and technology(t)')\n",
    "t_precision = matrix[1][1] / np.sum(matrix, axis = 0)[1] if not np.all(matrix[1][1] == np.sum(matrix, axis = 0)[1]) else 1\n",
    "t_recall = matrix[1][1] / np.sum(matrix, axis = 1)[1] if not np.all(matrix[1][1] == np.sum(matrix, axis = 1)[1]) else 1\n",
    "t_f1score = 1 / (1 / t_precision +  1 / t_recall)\n",
    "print('適合率: {0}\\t再現率: {1}\\tF1スコア: {2}'.format(t_precision, t_recall, t_f1score))\n",
    "\n",
    "print('entertainment(e)')\n",
    "e_precision = matrix[2][2] / np.sum(matrix, axis = 0)[2] if not np.all(matrix[2][2] == np.sum(matrix, axis = 0)[2]) else 1\n",
    "e_recall = matrix[2][2] / np.sum(matrix, axis = 1)[2] if not np.all(matrix[2][2] == np.sum(matrix, axis = 1)[2]) else 1\n",
    "e_f1score = 1 / (1 / e_precision +  1 / e_recall)\n",
    "print('適合率: {0}\\t再現率: {1}\\tF1スコア: {2}'.format(e_precision, e_recall, e_f1score))\n",
    "\n",
    "print('health(h)')\n",
    "h_precision = matrix[3][3] / np.sum(matrix, axis = 0)[3] if not np.all(matrix[3][3] == np.sum(matrix, axis = 0)[3]) else 1\n",
    "h_recall = matrix[3][3] / np.sum(matrix, axis = 1)[3] if not np.all(matrix[3][3] == np.sum(matrix, axis = 1)[3]) else 1\n",
    "h_f1score = 1 / (1 / h_precision +  1 / h_recall)\n",
    "print('適合率: {0}\\t再現率: {1}\\tF1スコア: {2}\\n'.format(h_precision, h_recall, h_f1score))\n",
    "\n",
    "print('AVERAGE')\n",
    "micro_ave = (matrix[0][0] + matrix[1][1] + matrix[2][2] + matrix[3][3]) / np.sum(matrix)\n",
    "macro_ave_precision = (b_precision + t_precision + e_precision + h_precision) / 4\n",
    "macro_ave_recall = (b_recall + t_recall + e_recall + h_recall) / 4\n",
    "macro_ave_f1score = (b_f1score + t_f1score + e_f1score + h_f1score) / 4\n",
    "\n",
    "print('適合率')\n",
    "print('マイクロ平均: {}\\tマクロ平均: {}'.format(micro_ave, macro_ave_precision))\n",
    "print('再現率')\n",
    "print('マイクロ平均: {}\\tマクロ平均: {}'.format(micro_ave, macro_ave_recall))\n",
    "print('F1スコア')\n",
    "print('マイクロ平均: {}\\tマクロ平均: {}'.format(micro_ave, macro_ave_f1score))"
   ]
  },
  {
   "cell_type": "code",
   "execution_count": null,
   "metadata": {},
   "outputs": [],
   "source": []
  }
 ],
 "metadata": {
  "kernelspec": {
   "display_name": "Python 3",
   "language": "python",
   "name": "python3"
  },
  "language_info": {
   "codemirror_mode": {
    "name": "ipython",
    "version": 3
   },
   "file_extension": ".py",
   "mimetype": "text/x-python",
   "name": "python",
   "nbconvert_exporter": "python",
   "pygments_lexer": "ipython3",
   "version": "3.7.6"
  }
 },
 "nbformat": 4,
 "nbformat_minor": 4
}
