{
 "cells": [
  {
   "cell_type": "code",
   "execution_count": 1,
   "metadata": {},
   "outputs": [],
   "source": [
    "def make_features_dic(fname):\n",
    "    with open(fname) as file:\n",
    "        return {line.rstrip('\\n'): i for i, line in enumerate(file)}"
   ]
  },
  {
   "cell_type": "code",
   "execution_count": 2,
   "metadata": {},
   "outputs": [
    {
     "name": "stdout",
     "output_type": "stream",
     "text": [
      "重みの高い特徴量トップ10\n",
      "[1] activis\n",
      "[2] microsoft\n",
      "[3] ebola\n",
      "[4] googl\n",
      "[5] climat\n",
      "[6] facebook\n",
      "[7] nasa\n",
      "[8] appl\n",
      "[9] brain\n",
      "[10] heartble\n",
      "\n",
      "\n",
      "重みの低い特徴量トップ10\n",
      "[1] sister\n",
      "[2] react\n",
      "[3] singl\n",
      "[4] spark\n",
      "[5] [video]\n",
      "[6] back\n",
      "[7] gotham\n",
      "[8] find\n",
      "[9] dame\n",
      "[10] complet\n"
     ]
    }
   ],
   "source": [
    "import numpy as np\n",
    "\n",
    "features_dic = make_features_dic('train.feature.txt')\n",
    "w_and_b = np.load('results/52_result.npy')\n",
    "queue_w = w_and_b[:-1]\n",
    "vector_l2_norm = np.zeros(len(queue_w))\n",
    "\n",
    "for i in range(len(queue_w)):\n",
    "    vector_l2_norm[i] = np.sqrt(np.sum(np.square(queue_w[i])))\n",
    "rank_indexes = np.argsort(vector_l2_norm)\n",
    "\n",
    "print('重みの高い特徴量トップ10')\n",
    "for i, index in enumerate(rank_indexes[:-11:-1], 1):\n",
    "    word = [k for k, v in features_dic.items() if v == index]\n",
    "    print('[{0}] {1}'.format(i, word[0]))\n",
    "print('\\n')\n",
    "\n",
    "print('重みの低い特徴量トップ10')\n",
    "for i, index in enumerate(rank_indexes[0:10], 1):\n",
    "    word = [k for k, v in features_dic.items() if v == index]\n",
    "    print('[{0}] {1}'.format(i, word[0]))"
   ]
  },
  {
   "cell_type": "code",
   "execution_count": null,
   "metadata": {},
   "outputs": [],
   "source": []
  }
 ],
 "metadata": {
  "kernelspec": {
   "display_name": "Python 3",
   "language": "python",
   "name": "python3"
  },
  "language_info": {
   "codemirror_mode": {
    "name": "ipython",
    "version": 3
   },
   "file_extension": ".py",
   "mimetype": "text/x-python",
   "name": "python",
   "nbconvert_exporter": "python",
   "pygments_lexer": "ipython3",
   "version": "3.7.6"
  }
 },
 "nbformat": 4,
 "nbformat_minor": 4
}
