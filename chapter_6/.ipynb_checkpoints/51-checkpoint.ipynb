{
 "cells": [
  {
   "cell_type": "code",
   "execution_count": 1,
   "metadata": {},
   "outputs": [],
   "source": [
    "def make_feature_file(fname):\n",
    "    with open(fname) as file:\n",
    "        import re\n",
    "        from nltk.corpus import stopwords\n",
    "        import snowballstemmer\n",
    "        from collections import Counter\n",
    "        \n",
    "        features = []\n",
    "        all_words = []\n",
    "        \n",
    "        for line in file:\n",
    "            line = line.rstrip('\\n')\n",
    "            title = line.split('\\t')[1]\n",
    "            \n",
    "            # 文字種の統一\n",
    "            title = title.lower()\n",
    "            \n",
    "            # 数字の置き換え -> 除去\n",
    "            title = re.sub(r'[0-9]+', '', title)\n",
    "            \n",
    "            # '-'を' 'に変換\n",
    "            title = title.replace('-', ' ')\n",
    "            \n",
    "            words = title.split()\n",
    "            \n",
    "            # ストップワードの除去\n",
    "            stop_words = stopwords.words('english')\n",
    "            words2 = [word for word in words if word not in stop_words]\n",
    "            words = words2\n",
    "            \n",
    "            # ステミング処理\n",
    "            stemmer = snowballstemmer.stemmer('english')\n",
    "            words2 = [stemmer.stemWord(word) for word in words]\n",
    "            words = words2\n",
    "            \n",
    "            # 記号の除去\n",
    "            words2 = [word for word in words if word.islower()]\n",
    "            words = words2\n",
    "            \n",
    "            for word in words:\n",
    "                all_words.append(word)\n",
    "                \n",
    "        word_counts = Counter(all_words).most_common()\n",
    "        for word_count in word_counts:\n",
    "            # 出現回数が1回以下の単語の除去\n",
    "            if word_count[1] > 1:\n",
    "                features.append(word_count[0])\n",
    "                \n",
    "        fname2 = '{0}.feature.txt'.format(fname.replace('.txt', ''))\n",
    "        with open(fname2, 'w') as file2:\n",
    "            for feature in features:\n",
    "                file2.write('{0}\\n'.format(feature))"
   ]
  },
  {
   "cell_type": "code",
   "execution_count": 2,
   "metadata": {},
   "outputs": [],
   "source": [
    "make_feature_file('train.txt')\n",
    "make_feature_file('valid.txt')\n",
    "make_feature_file('test.txt')"
   ]
  },
  {
   "cell_type": "code",
   "execution_count": null,
   "metadata": {},
   "outputs": [],
   "source": []
  }
 ],
 "metadata": {
  "kernelspec": {
   "display_name": "Python 3",
   "language": "python",
   "name": "python3"
  },
  "language_info": {
   "codemirror_mode": {
    "name": "ipython",
    "version": 3
   },
   "file_extension": ".py",
   "mimetype": "text/x-python",
   "name": "python",
   "nbconvert_exporter": "python",
   "pygments_lexer": "ipython3",
   "version": "3.7.6"
  }
 },
 "nbformat": 4,
 "nbformat_minor": 4
}
