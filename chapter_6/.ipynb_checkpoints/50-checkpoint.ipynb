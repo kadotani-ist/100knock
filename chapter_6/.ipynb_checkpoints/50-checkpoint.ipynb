{
 "cells": [
  {
   "cell_type": "code",
   "execution_count": 1,
   "metadata": {},
   "outputs": [],
   "source": [
    "import csv\n",
    "import random\n",
    "\n",
    "newsCorpra_list = []\n",
    "publishers = ['Reuters', 'Huffington Post', 'Businessweek', 'Contactmusic.com', 'Daily Mail']\n",
    "train_corpra, valid_corpra, test_corpra = [], [], []\n",
    "\n",
    "with open('NewsAggregatorDataset/newsCorpora.csv') as file:\n",
    "    reader = csv.reader(file, delimiter = '\\t')\n",
    "    newsCorpra_list = [row for row in reader if row[3] in publishers]\n",
    "random.shuffle(newsCorpra_list)\n",
    "for i, corpus in enumerate(newsCorpra_list):\n",
    "    if i < round(len(newsCorpra_list) * 8 / 10):\n",
    "        train_corpra.append('{0}\\t{1}'.format(corpus[4], corpus[1]))\n",
    "    elif i < round(len(newsCorpra_list) * 9 / 10):\n",
    "        valid_corpra.append('{0}\\t{1}'.format(corpus[4], corpus[1]))\n",
    "    else:\n",
    "        test_corpra.append('{0}\\t{1}'.format(corpus[4], corpus[1]))\n",
    "        \n",
    "with open('train.txt', 'w') as file:\n",
    "    for corpus in train_corpra:\n",
    "        file.write('{0}\\n'.format(corpus))\n",
    "with open('valid.txt', 'w') as file:\n",
    "    for corpus in valid_corpra:\n",
    "        file.write('{0}\\n'.format(corpus))\n",
    "with open('test.txt', 'w') as file:\n",
    "    for corpus in test_corpra:\n",
    "        file.write('{0}\\n'.format(corpus))"
   ]
  },
  {
   "cell_type": "code",
   "execution_count": null,
   "metadata": {},
   "outputs": [],
   "source": []
  }
 ],
 "metadata": {
  "kernelspec": {
   "display_name": "Python 3",
   "language": "python",
   "name": "python3"
  },
  "language_info": {
   "codemirror_mode": {
    "name": "ipython",
    "version": 3
   },
   "file_extension": ".py",
   "mimetype": "text/x-python",
   "name": "python",
   "nbconvert_exporter": "python",
   "pygments_lexer": "ipython3",
   "version": "3.7.6"
  }
 },
 "nbformat": 4,
 "nbformat_minor": 4
}
