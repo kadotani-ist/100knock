{
 "cells": [
  {
   "cell_type": "code",
   "execution_count": 1,
   "metadata": {},
   "outputs": [],
   "source": [
    "class Morph:\n",
    "    def __init__(self, surface, base, pos, pos1):\n",
    "        self.surface = surface\n",
    "        self.base = base\n",
    "        self.pos = pos\n",
    "        self.pos1 = pos1\n",
    "        \n",
    "    def __str__(self):\n",
    "        return 'surface: {0}, base: {1}, pos: {2}, po1: {3}'.format(self.surface, self.base, self.pos, self.pos1)"
   ]
  },
  {
   "cell_type": "code",
   "execution_count": 72,
   "metadata": {},
   "outputs": [],
   "source": [
    "class Chunk:\n",
    "    def __init__(self, morphs, dst):\n",
    "        self.morphs = morphs\n",
    "        self.dst = dst\n",
    "        self.srcs = []\n",
    "        self.surfaces = ''\n",
    "        \n",
    "        for morph in self.morphs:\n",
    "            self.surfaces += morph.surface\n",
    "        \n",
    "    def __str__(self):\n",
    "        return 'surfaces: {0}, dst: {1}, srcs: {2}'.format(self.surfaces, self.dst, self.srcs)"
   ]
  },
  {
   "cell_type": "code",
   "execution_count": 80,
   "metadata": {},
   "outputs": [
    {
     "name": "stdout",
     "output_type": "stream",
     "text": [
      "[0]吾輩は\t5\n",
      "[1]ここで\t2\n",
      "[2]始めて\t3\n",
      "[3]人間という\t4\n",
      "[4]ものを\t5\n",
      "[5]見た。\t-1\n"
     ]
    }
   ],
   "source": [
    "fname = 'neko.txt.cabocha'\n",
    "Morphs_list = []\n",
    "Morphs = []\n",
    "Chunks_list = []\n",
    "Chunks = []\n",
    "Chunk_Morphs = []\n",
    "EOS_count = 0\n",
    "src_dst = []\n",
    "\n",
    "with open(fname) as file:\n",
    "    for line in file:\n",
    "        line = line.rstrip('\\n')\n",
    "        if line[0] == '*':\n",
    "            if len(Chunk_Morphs) > 0:\n",
    "                Chunks.append(Chunk(Chunk_Morphs, phrase_info[2][:-1]))\n",
    "            Chunk_Morphs = []\n",
    "            phrase_info = line.split(' ')\n",
    "            if EOS_count > 0:\n",
    "                for s_d in src_dst:\n",
    "                    if int(s_d[1]) != -1:\n",
    "                        Chunks[int(s_d[1])].srcs.append(s_d[0])\n",
    "                src_dst = []\n",
    "                Chunks_list.append(Chunks)\n",
    "                Chunks = []\n",
    "                EOS_count -= 1\n",
    "            while EOS_count > 0:\n",
    "                Chunks_list.append([])\n",
    "                EOS_count -= 1\n",
    "            src_dst.append([phrase_info[1], phrase_info[2][:-1]])\n",
    "            continue\n",
    "        if line == 'EOS':\n",
    "            Morphs_list.append(Morphs)\n",
    "            Morphs = []\n",
    "            EOS_count += 1\n",
    "            continue\n",
    "        morpheme = line.split('\\t')\n",
    "        surface = morpheme[0]\n",
    "        base = morpheme[1].split(',')[6]\n",
    "        pos = morpheme[1].split(',')[0]\n",
    "        pos1 = morpheme[1].split(',')[1]\n",
    "        Morphs.append(Morph(surface, base, pos, pos1))\n",
    "        Chunk_Morphs.append(Morph(surface, base, pos, pos1))\n",
    "        \n",
    "for i, Chunks in enumerate(Chunks_list, 1):\n",
    "    if i == 8:\n",
    "        for j, c in enumerate(Chunks):\n",
    "            print('[{0}]{1}\\t{2}'.format(j, c.surfaces, c.dst))\n",
    "        break"
   ]
  },
  {
   "cell_type": "code",
   "execution_count": null,
   "metadata": {},
   "outputs": [],
   "source": []
  }
 ],
 "metadata": {
  "kernelspec": {
   "display_name": "Python 3",
   "language": "python",
   "name": "python3"
  },
  "language_info": {
   "codemirror_mode": {
    "name": "ipython",
    "version": 3
   },
   "file_extension": ".py",
   "mimetype": "text/x-python",
   "name": "python",
   "nbconvert_exporter": "python",
   "pygments_lexer": "ipython3",
   "version": "3.7.6"
  }
 },
 "nbformat": 4,
 "nbformat_minor": 4
}
