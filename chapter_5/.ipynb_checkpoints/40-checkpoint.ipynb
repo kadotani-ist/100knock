{
 "cells": [
  {
   "cell_type": "code",
   "execution_count": 2,
   "metadata": {},
   "outputs": [],
   "source": [
    "import CaboCha\n",
    "\n",
    "with open('neko.txt') as file, open('neko.txt.cabocha', mode='w') as file2:\n",
    "    c = CaboCha.Parser('-d /usr/local/lib/mecab/dic/mecab-ipadic-neologd')\n",
    "    for line in file:\n",
    "        file2.write(c.parse(line).toString(CaboCha.FORMAT_LATTICE))"
   ]
  },
  {
   "cell_type": "code",
   "execution_count": 36,
   "metadata": {},
   "outputs": [],
   "source": [
    "class Morph:\n",
    "    def __init__(self, surface, base, pos, pos1):\n",
    "        self.surface = surface\n",
    "        self.base = base\n",
    "        self.pos = pos\n",
    "        self.pos1 = pos1\n",
    "        \n",
    "    def __str__(self):\n",
    "        return 'surface: {0}, base: {1}, pos: {2}, po1: {3}'.format(self.surface, self.base, self.pos, self.pos1)"
   ]
  },
  {
   "cell_type": "code",
   "execution_count": 38,
   "metadata": {},
   "outputs": [
    {
     "name": "stdout",
     "output_type": "stream",
     "text": [
      "surface: 　, base: 　, pos: 記号, po1: 空白\n",
      "surface: 吾輩は猫である, base: 吾輩は猫である, pos: 名詞, po1: 固有名詞\n",
      "surface: 。, base: 。, pos: 記号, po1: 句点\n"
     ]
    }
   ],
   "source": [
    "fname = 'neko.txt.cabocha'\n",
    "Morphs_list = []\n",
    "Morphs = []\n",
    "\n",
    "with open(fname) as file:\n",
    "    for line in file:\n",
    "        line = line.rstrip('\\n')\n",
    "        if line[0] == '*':\n",
    "            continue\n",
    "        if line == 'EOS':\n",
    "            Morphs_list.append(Morphs)\n",
    "            Morphs = []\n",
    "            continue\n",
    "        morpheme = line.split('\\t')\n",
    "        surface = morpheme[0]\n",
    "        base = morpheme[1].split(',')[6]\n",
    "        pos = morpheme[1].split(',')[0]\n",
    "        pos1 = morpheme[1].split(',')[1]\n",
    "        Morphs.append(Morph(surface, base, pos, pos1))\n",
    "        \n",
    "for i, Morphs in enumerate(Morphs_list, 1):\n",
    "    if i == 3:\n",
    "        for m in Morphs:\n",
    "            print(m)\n",
    "        break"
   ]
  },
  {
   "cell_type": "code",
   "execution_count": null,
   "metadata": {},
   "outputs": [],
   "source": []
  }
 ],
 "metadata": {
  "kernelspec": {
   "display_name": "Python 3",
   "language": "python",
   "name": "python3"
  },
  "language_info": {
   "codemirror_mode": {
    "name": "ipython",
    "version": 3
   },
   "file_extension": ".py",
   "mimetype": "text/x-python",
   "name": "python",
   "nbconvert_exporter": "python",
   "pygments_lexer": "ipython3",
   "version": "3.7.6"
  }
 },
 "nbformat": 4,
 "nbformat_minor": 4
}
