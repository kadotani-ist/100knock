{
 "cells": [
  {
   "cell_type": "code",
   "execution_count": 1,
   "metadata": {},
   "outputs": [],
   "source": [
    "class Morph:\n",
    "    def __init__(self, surface, base, pos, pos1):\n",
    "        self.surface = surface\n",
    "        self.base = base\n",
    "        self.pos = pos\n",
    "        self.pos1 = pos1\n",
    "        \n",
    "    def __str__(self):\n",
    "        return 'surface: {0}, base: {1}, pos: {2}, po1: {3}'.format(self.surface, self.base, self.pos, self.pos1)"
   ]
  },
  {
   "cell_type": "code",
   "execution_count": 2,
   "metadata": {},
   "outputs": [],
   "source": [
    "class Chunk:\n",
    "    def __init__(self, morphs, dst):\n",
    "        self.morphs = morphs\n",
    "        self.dst = dst\n",
    "        self.srcs = []\n",
    "        self.surfaces2 = ''\n",
    "        \n",
    "        for morph in self.morphs:\n",
    "            if morph.pos != '記号':\n",
    "                self.surfaces2 += morph.surface\n",
    "        \n",
    "    def __str__(self):\n",
    "        return 'surfaces2: {0}, dst: {1}, srcs: {2}'.format(self.surfaces2, self.dst, self.srcs)"
   ]
  },
  {
   "cell_type": "code",
   "execution_count": 3,
   "metadata": {},
   "outputs": [],
   "source": [
    "def make_edges(sentence):\n",
    "    import CaboCha\n",
    "    \n",
    "    Chunks = []\n",
    "    Chunk_Morphs = []\n",
    "    EOS_count = 0\n",
    "    src_dst = []\n",
    "    edges = []\n",
    "    \n",
    "    c = CaboCha.Parser('-d /usr/local/lib/mecab/dic/mecab-ipadic-neologd')\n",
    "    c_sentence = c.parse(sentence).toString(CaboCha.FORMAT_LATTICE)\n",
    "    lines = c_sentence.split('\\n')\n",
    "    for line in lines:\n",
    "        if line[0] == '*':\n",
    "            if len(Chunk_Morphs) > 0:\n",
    "                Chunks.append(Chunk(Chunk_Morphs, phrase_info[2][:-1]))\n",
    "            Chunk_Morphs = []\n",
    "            phrase_info = line.split(' ')            \n",
    "            src_dst.append([phrase_info[1], phrase_info[2][:-1]])\n",
    "            continue\n",
    "        if line == 'EOS':\n",
    "            if len(Chunk_Morphs) > 0:\n",
    "                Chunks.append(Chunk(Chunk_Morphs, phrase_info[2][:-1]))\n",
    "            for s_d in src_dst:\n",
    "                if int(s_d[1]) != -1:\n",
    "                    Chunks[int(s_d[1])].srcs.append(s_d[0])\n",
    "            break\n",
    "        morpheme = line.split('\\t')\n",
    "        surface = morpheme[0]\n",
    "        base = morpheme[1].split(',')[6]\n",
    "        pos = morpheme[1].split(',')[0]\n",
    "        pos1 = morpheme[1].split(',')[1]\n",
    "        Chunk_Morphs.append(Morph(surface, base, pos, pos1))\n",
    "        \n",
    "    for i, c in enumerate(Chunks):                \n",
    "        if c.dst != '-1':\n",
    "            edges.append([i, c.surfaces2, c.dst, Chunks[int(c.dst)].surfaces2])\n",
    "            \n",
    "    return edges"
   ]
  },
  {
   "cell_type": "code",
   "execution_count": 4,
   "metadata": {},
   "outputs": [],
   "source": [
    "def make_graph(edges):\n",
    "    import pydot_ng as pydot\n",
    "    \n",
    "    graph = pydot.Dot(graph_type = 'digraph')\n",
    "    for edge in edges:\n",
    "        graph.add_node(pydot.Node(edge[0], label = edge[1]))\n",
    "        graph.add_node(pydot.Node(edge[2], label = edge[3]))\n",
    "        graph.add_edge(pydot.Edge(edge[0], edge[2]))\n",
    "        \n",
    "    return graph"
   ]
  },
  {
   "cell_type": "code",
   "execution_count": 5,
   "metadata": {},
   "outputs": [
    {
     "name": "stdout",
     "output_type": "stream",
     "text": [
      "enter sentence: 吾輩はここで始めて人間というものを見た。\n"
     ]
    }
   ],
   "source": [
    "sentence = input('enter sentence: ')\n",
    "edges = make_edges(sentence)\n",
    "if len(edges) > 0:\n",
    "    graph = make_graph(edges)\n",
    "    graph.write_png('results/44_result.png')"
   ]
  },
  {
   "cell_type": "code",
   "execution_count": null,
   "metadata": {},
   "outputs": [],
   "source": []
  }
 ],
 "metadata": {
  "kernelspec": {
   "display_name": "Python 3",
   "language": "python",
   "name": "python3"
  },
  "language_info": {
   "codemirror_mode": {
    "name": "ipython",
    "version": 3
   },
   "file_extension": ".py",
   "mimetype": "text/x-python",
   "name": "python",
   "nbconvert_exporter": "python",
   "pygments_lexer": "ipython3",
   "version": "3.7.6"
  }
 },
 "nbformat": 4,
 "nbformat_minor": 4
}
