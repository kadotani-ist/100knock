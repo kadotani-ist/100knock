{
 "cells": [
  {
   "cell_type": "code",
   "execution_count": 1,
   "metadata": {},
   "outputs": [],
   "source": [
    "fname = 'neko.txt.mecab'\n",
    "morphemes_list = []\n",
    "morphemes = []\n",
    "\n",
    "with open(fname) as file:\n",
    "    for line in file:\n",
    "        line = line.rstrip('\\n')\n",
    "        if line == 'EOS':\n",
    "            break\n",
    "        morpheme = line.split('\\t')\n",
    "        surface = morpheme[0]\n",
    "        base = morpheme[1].split(',')[6]\n",
    "        pos = morpheme[1].split(',')[0]\n",
    "        pos1 = morpheme[1].split(',')[1]\n",
    "        morpheme_dic = {'surface':surface, 'base':base, 'pos':pos, 'pos1':pos1}\n",
    "        morphemes.append(morpheme_dic)\n",
    "        if pos1 == '句点':\n",
    "            morphemes_list.append(morphemes)\n",
    "            morphemes = []"
   ]
  },
  {
   "cell_type": "code",
   "execution_count": 2,
   "metadata": {},
   "outputs": [],
   "source": [
    "from collections import Counter\n",
    "\n",
    "words = []\n",
    "\n",
    "for morphemes in morphemes_list:\n",
    "    for morpheme in morphemes:\n",
    "        if morpheme['surface'] == '猫':\n",
    "            flag = 1\n",
    "    if flag == 1:\n",
    "        for morpheme in morphemes:\n",
    "            words.append(morpheme['surface'])\n",
    "    flag = 0\n",
    "word_counts = Counter(words).most_common(11)\n",
    "\n",
    "for word_count in word_counts:\n",
    "    if word_count[0] == '猫':\n",
    "        neko_count = word_count\n",
    "word_counts.remove(neko_count)"
   ]
  },
  {
   "cell_type": "code",
   "execution_count": 3,
   "metadata": {},
   "outputs": [
    {
     "data": {
      "image/png": "[encoded data removed]",
      "text/plain": [
       "<Figure size 432x288 with 1 Axes>"
      ]
     },
     "metadata": {
      "needs_background": "light"
     },
     "output_type": "display_data"
    }
   ],
   "source": [
    "import matplotlib.pyplot as plt\n",
    "import matplotlib as mpl\n",
    "mpl.rcParams['font.family'] = 'AppleGothic'\n",
    "\n",
    "labels = []\n",
    "x = range(0, 10)\n",
    "y = []\n",
    "\n",
    "for word_count in word_counts:\n",
    "    labels.append(word_count[0])\n",
    "    y.append(word_count[1])\n",
    "    \n",
    "plt.bar(x, y, tick_label=labels)\n",
    "plt.title('「猫」と共起頻度の高い上位10語')\n",
    "plt.xlabel('「猫」と共起頻度が高い10語')\n",
    "plt.ylabel('出現頻度')\n",
    "plt.show()"
   ]
  },
  {
   "cell_type": "code",
   "execution_count": null,
   "metadata": {},
   "outputs": [],
   "source": []
  }
 ],
 "metadata": {
  "kernelspec": {
   "display_name": "Python 3",
   "language": "python",
   "name": "python3"
  },
  "language_info": {
   "codemirror_mode": {
    "name": "ipython",
    "version": 3
   },
   "file_extension": ".py",
   "mimetype": "text/x-python",
   "name": "python",
   "nbconvert_exporter": "python",
   "pygments_lexer": "ipython3",
   "version": "3.7.6"
  }
 },
 "nbformat": 4,
 "nbformat_minor": 4
}
