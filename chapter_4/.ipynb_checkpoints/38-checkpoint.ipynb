{
 "cells": [
  {
   "cell_type": "code",
   "execution_count": 1,
   "metadata": {},
   "outputs": [],
   "source": [
    "fname = 'neko.txt.mecab'\n",
    "morphemes_list = []\n",
    "morphemes = []\n",
    "\n",
    "with open(fname) as file:\n",
    "    for line in file:\n",
    "        line = line.rstrip('\\n')\n",
    "        if line == 'EOS':\n",
    "            break\n",
    "        morpheme = line.split('\\t')\n",
    "        surface = morpheme[0]\n",
    "        base = morpheme[1].split(',')[6]\n",
    "        pos = morpheme[1].split(',')[0]\n",
    "        pos1 = morpheme[1].split(',')[1]\n",
    "        morpheme_dic = {'surface':surface, 'base':base, 'pos':pos, 'pos1':pos1}\n",
    "        morphemes.append(morpheme_dic)\n",
    "        if pos1 == '句点':\n",
    "            morphemes_list.append(morphemes)\n",
    "            morphemes = []"
   ]
  },
  {
   "cell_type": "code",
   "execution_count": 2,
   "metadata": {},
   "outputs": [],
   "source": [
    "from collections import Counter\n",
    "\n",
    "words = []\n",
    "frequencies = []\n",
    "\n",
    "for morphemes in morphemes_list:\n",
    "    for morpheme in morphemes:\n",
    "        words.append(morpheme['surface'])\n",
    "word_counts = Counter(words).most_common()"
   ]
  },
  {
   "cell_type": "code",
   "execution_count": 3,
   "metadata": {},
   "outputs": [
    {
     "name": "stderr",
     "output_type": "stream",
     "text": [
      "/opt/anaconda3/lib/python3.7/site-packages/matplotlib/backends/backend_agg.py:211: RuntimeWarning: Glyph 25968 missing from current font.\n",
      "  font.set_text(s, 0.0, flags=flags)\n",
      "/opt/anaconda3/lib/python3.7/site-packages/matplotlib/backends/backend_agg.py:180: RuntimeWarning: Glyph 25968 missing from current font.\n",
      "  font.set_text(s, 0, flags=flags)\n"
     ]
    },
    {
     "data": {
      "image/png": "[encoded data removed]",
      "text/plain": [
       "<Figure size 432x288 with 1 Axes>"
      ]
     },
     "metadata": {
      "needs_background": "light"
     },
     "output_type": "display_data"
    }
   ],
   "source": [
    "import matplotlib.pyplot as plt\n",
    "import matplotlib as mpl\n",
    "mpl.rcParams['font.family'] = 'AppleGothic'\n",
    "\n",
    "x = []\n",
    "\n",
    "for word_count in word_counts:\n",
    "    x.append(word_count[1])\n",
    "    \n",
    "plt.hist(x, bins=30, range=(1, 30))\n",
    "plt.xlim(xmin=1, xmax=30)\n",
    "plt.title('ヒストグラム')\n",
    "plt.xlabel('出現頻度')\n",
    "plt.ylabel('種類数')\n",
    "plt.show()"
   ]
  },
  {
   "cell_type": "code",
   "execution_count": null,
   "metadata": {},
   "outputs": [],
   "source": []
  }
 ],
 "metadata": {
  "kernelspec": {
   "display_name": "Python 3",
   "language": "python",
   "name": "python3"
  },
  "language_info": {
   "codemirror_mode": {
    "name": "ipython",
    "version": 3
   },
   "file_extension": ".py",
   "mimetype": "text/x-python",
   "name": "python",
   "nbconvert_exporter": "python",
   "pygments_lexer": "ipython3",
   "version": "3.7.6"
  }
 },
 "nbformat": 4,
 "nbformat_minor": 4
}
