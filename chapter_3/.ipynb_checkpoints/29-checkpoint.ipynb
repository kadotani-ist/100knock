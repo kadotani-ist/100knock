{
 "cells": [
  {
   "cell_type": "code",
   "execution_count": 1,
   "metadata": {},
   "outputs": [],
   "source": [
    "def make_uk_text():\n",
    "    import gzip\n",
    "    import json\n",
    "    \n",
    "    fname = 'jawiki-country.json'\n",
    "    \n",
    "    with open(fname) as file:\n",
    "        for line in file:\n",
    "            article = json.loads(line)\n",
    "            if article['title'] == 'イギリス':\n",
    "                uk_text = article['text']\n",
    "                break\n",
    "    return uk_text"
   ]
  },
  {
   "cell_type": "code",
   "execution_count": 2,
   "metadata": {},
   "outputs": [],
   "source": [
    "def remove_markup(text):\n",
    "    import re\n",
    "    \n",
    "    pattern = re.compile(r'''\n",
    "    ('{2,5})\n",
    "    (.*?)\n",
    "    \\1\n",
    "    ''', re.MULTILINE + re.VERBOSE)\n",
    "    \n",
    "    pattern2 = re.compile(r'''\n",
    "    (?:(?<!\\#REDIRECT)|(?<!\\[\\[Category))\n",
    "    \\[\\[\n",
    "    (?:[^|]*?\\|)??\n",
    "    ([^|]*?)\n",
    "    \\]\\]\n",
    "    ''', re.MULTILINE + re.VERBOSE)\n",
    "    \n",
    "    text2 =  pattern2.sub(r'\\1', pattern.sub(r'\\2', text))\n",
    "    \n",
    "    pattern3 = re.compile(r'\\[\\[(.*?)\\]\\]')\n",
    "    \n",
    "    pattern4 = re.compile(r'\\[http:\\/\\/(.*?)\\]')\n",
    "    \n",
    "    pattern5 = re.compile(r'\\{\\{(.*?)\\}\\}')\n",
    "    \n",
    "    pattern6 = re.compile(r'<(.*?)>')\n",
    "    \n",
    "    return  pattern6.sub('', pattern5.sub('', pattern4.sub('', pattern3.sub('', text2))))"
   ]
  },
  {
   "cell_type": "code",
   "execution_count": 3,
   "metadata": {},
   "outputs": [],
   "source": [
    "import re\n",
    "\n",
    "fields_dic = {}\n",
    "\n",
    "pattern = re.compile(r'''\n",
    "    \\{\\{基礎情報.*?$\n",
    "    (.*?)\n",
    "    ^\\}\\}\n",
    "    ''', re.MULTILINE + re.VERBOSE + re.DOTALL)\n",
    "\n",
    "pattern2 = re.compile(r'''\n",
    "    ^\n",
    "    \\|\n",
    "    (.*?)\n",
    "    \\s*\n",
    "    =\n",
    "    \\s*\n",
    "    (.*?)\n",
    "    (?:(?=\\n\\|)|(?=\\n$))\n",
    "    ''', re.MULTILINE + re.VERBOSE)\n",
    "\n",
    "BasicInformations = pattern.findall(make_uk_text())\n",
    "fields = pattern2.findall(BasicInformations[0])\n",
    "for field in fields:\n",
    "    fields_dic[field[0]] = remove_markup(field[1])"
   ]
  },
  {
   "cell_type": "code",
   "execution_count": 4,
   "metadata": {},
   "outputs": [],
   "source": [
    "import urllib.parse, urllib.request\n",
    "import json\n",
    "\n",
    "fname_flag = fields_dic['国旗画像']\n",
    "\n",
    "url = 'https://www.mediawiki.org/w/api.php?' \\\n",
    "    + 'action=query' \\\n",
    "    + '&titles=File:' + urllib.parse.quote(fname_flag) \\\n",
    "    + '&format=json' \\\n",
    "    + '&prop=imageinfo' \\\n",
    "    + '&iiprop=url'\n",
    "\n",
    "request = urllib.request.Request(url, headers={'User-Agent': 'kadotani_NLP'})\n",
    "response = urllib.request.urlopen(request)\n",
    "response_data = json.loads(response.read().decode())"
   ]
  },
  {
   "cell_type": "code",
   "execution_count": 5,
   "metadata": {},
   "outputs": [
    {
     "name": "stdout",
     "output_type": "stream",
     "text": [
      "{\n",
      "  \"continue\": {\n",
      "    \"iistart\": \"2019-09-10T16:52:58Z\",\n",
      "    \"continue\": \"||\"\n",
      "  },\n",
      "  \"query\": {\n",
      "    \"pages\": {\n",
      "      \"-1\": {\n",
      "        \"ns\": 6,\n",
      "        \"title\": \"File:Flag of the United Kingdom.svg\",\n",
      "        \"missing\": \"\",\n",
      "        \"known\": \"\",\n",
      "        \"imagerepository\": \"shared\",\n",
      "        \"imageinfo\": [\n",
      "          {\n",
      "            \"url\": \"https://upload.wikimedia.org/wikipedia/commons/a/ae/Flag_of_the_United_Kingdom.svg\",\n",
      "            \"descriptionurl\": \"https://commons.wikimedia.org/wiki/File:Flag_of_the_United_Kingdom.svg\",\n",
      "            \"descriptionshorturl\": \"https://commons.wikimedia.org/w/index.php?curid=347935\"\n",
      "          }\n",
      "        ]\n",
      "      }\n",
      "    }\n",
      "  }\n",
      "}\n"
     ]
    }
   ],
   "source": [
    "print(json.dumps(response_data, indent=2))"
   ]
  },
  {
   "cell_type": "code",
   "execution_count": 6,
   "metadata": {},
   "outputs": [
    {
     "name": "stdout",
     "output_type": "stream",
     "text": [
      "https://upload.wikimedia.org/wikipedia/commons/a/ae/Flag_of_the_United_Kingdom.svg\n"
     ]
    }
   ],
   "source": [
    "result = response_data['query']['pages']['-1']['imageinfo'][0]['url']\n",
    "print(result)"
   ]
  },
  {
   "cell_type": "code",
   "execution_count": null,
   "metadata": {},
   "outputs": [],
   "source": []
  }
 ],
 "metadata": {
  "kernelspec": {
   "display_name": "Python 3",
   "language": "python",
   "name": "python3"
  },
  "language_info": {
   "codemirror_mode": {
    "name": "ipython",
    "version": 3
   },
   "file_extension": ".py",
   "mimetype": "text/x-python",
   "name": "python",
   "nbconvert_exporter": "python",
   "pygments_lexer": "ipython3",
   "version": "3.7.6"
  }
 },
 "nbformat": 4,
 "nbformat_minor": 4
}
