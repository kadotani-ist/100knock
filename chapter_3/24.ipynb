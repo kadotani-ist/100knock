{
 "cells": [
  {
   "cell_type": "code",
   "execution_count": 1,
   "metadata": {},
   "outputs": [],
   "source": [
    "def make_uk_text():\n",
    "    import gzip\n",
    "    import json\n",
    "    \n",
    "    fname = 'jawiki-country.json'\n",
    "    \n",
    "    with open(fname) as file:\n",
    "        for line in file:\n",
    "            article = json.loads(line)\n",
    "            if article['title'] == 'イギリス':\n",
    "                uk_text = article['text']\n",
    "                break\n",
    "    return uk_text"
   ]
  },
  {
   "cell_type": "code",
   "execution_count": 2,
   "metadata": {},
   "outputs": [
    {
     "name": "stdout",
     "output_type": "stream",
     "text": [
      "Royal Coat of Arms of the United Kingdom.svg\n",
      "Descriptio Prime Tabulae Europae.jpg\n",
      "Lenepveu, Jeanne d'Arc au siège d'Orléans.jpg\n",
      "London.bankofengland.arp.jpg\n",
      "Battle of Waterloo 1815.PNG\n",
      "Uk topo en.jpg\n",
      "BenNevis2005.jpg\n",
      "Population density UK 2011 census.png\n",
      "2019 Greenwich Peninsula & Canary Wharf.jpg\n",
      "Birmingham Skyline from Edgbaston Cricket Ground crop.jpg\n",
      "Leeds CBD at night.jpg\n",
      "Glasgow and the Clyde from the air (geograph 4665720).jpg\n",
      "Palace of Westminster, London - Feb 2007.jpg\n",
      "Scotland Parliament Holyrood.jpg\n",
      "Donald Trump and Theresa May (33998675310) (cropped).jpg\n",
      "Soldiers Trooping the Colour, 16th June 2007.jpg\n",
      "City of London skyline from London City Hall - Oct 2008.jpg\n",
      "Oil platform in the North SeaPros.jpg\n",
      "Eurostar at St Pancras Jan 2008.jpg\n",
      "Heathrow Terminal 5C Iwelumo-1.jpg\n",
      "Airbus A380-841 G-XLEB British Airways (10424102995).jpg\n",
      "UKpop.svg\n",
      "Anglospeak.svg\n",
      "Royal Aberdeen Children's Hospital.jpg\n",
      "CHANDOS3.jpg\n",
      "The Fabs.JPG\n",
      "Wembley Stadium, illuminated.jpg\n"
     ]
    }
   ],
   "source": [
    "import re\n",
    "\n",
    "pattern = re.compile(r'''\n",
    "    \\[\\[ファイル:\n",
    "    (.*?)\n",
    "    \\|\n",
    "    ''', re.MULTILINE + re.VERBOSE)\n",
    "\n",
    "result = pattern.findall(make_uk_text())\n",
    "\n",
    "for r in result:\n",
    "    print(r)"
   ]
  },
  {
   "cell_type": "code",
   "execution_count": null,
   "metadata": {},
   "outputs": [],
   "source": []
  }
 ],
 "metadata": {
  "kernelspec": {
   "display_name": "Python 3",
   "language": "python",
   "name": "python3"
  },
  "language_info": {
   "codemirror_mode": {
    "name": "ipython",
    "version": 3
   },
   "file_extension": ".py",
   "mimetype": "text/x-python",
   "name": "python",
   "nbconvert_exporter": "python",
   "pygments_lexer": "ipython3",
   "version": "3.7.6"
  }
 },
 "nbformat": 4,
 "nbformat_minor": 4
}
